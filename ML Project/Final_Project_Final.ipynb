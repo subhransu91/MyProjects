{
 "cells": [
  {
   "cell_type": "markdown",
   "metadata": {},
   "source": [
    "<h1>SEIS 763 Final Project - Team 2</h1>\n",
    "\n",
    "<h4>Team Members:</h4> \n",
    "<ul>\n",
    "    <li>Glenda Pinho</li>\n",
    "    <li>Mollika Tahsin</li>\n",
    "    <li>Subhransu Nanda</li>\n",
    "    <li>Somdath Rampersad</li>\n",
    "</ul>\n",
    "\n",
    "<u><b>Dataset:</b></u><br>\n",
    "<a href=\"https://www.kaggle.com/mirbektoktogaraev/should-this-loan-be-approved-or-denied\">https://www.kaggle.com/mirbektoktogaraev/should-this-loan-be-approved-or-denied</a>\n",
    "\n",
    "<u><b>Original Article:</b></u><br>\n",
    "<i>“Should This Loan be Approved or Denied?”: A Large Dataset with Class Assignment Guidelines</i><br>\n",
    "<a href=\"https://www.tandfonline.com/doi/full/10.1080/10691898.2018.1434342\">https://www.tandfonline.com/doi/full/10.1080/10691898.2018.1434342</a>\n",
    "\n",
    "<u><b>North American Industry Classification System (NAICS):</u></b><br>\n",
    "<a href=\"https://www.census.gov/cgi-bin/sssd/naics/naicsrch?chart=2012\">https://www.census.gov/cgi-bin/sssd/naics/naicsrch?chart=2012</a>"
   ]
  },
  {
   "cell_type": "markdown",
   "metadata": {},
   "source": [
    "<h3>Description of Data</h3>\n",
    "<table align='left' style='width:auto'>\n",
    "    <thead>\n",
    "        <tr>\n",
    "            <th>Variable Name</th>\n",
    "            <th>Description</th>\n",
    "            <th>Type Classification</th>\n",
    "        </tr>\n",
    "    </thead>\n",
    "    <tbody>\n",
    "        <tr>\n",
    "            <td>LoanNr_ChkDgt</td>\n",
    "            <td>Identifier Primary key</td>\n",
    "            <td style=\"text-align:center\">Categorical</td>\n",
    "        </tr>\n",
    "        <tr>\n",
    "            <td>Name</td>\n",
    "            <td>Borrower name</td>\n",
    "            <td style=\"text-align:center\">Categorical</td>\n",
    "        </tr>\n",
    "        <tr>\n",
    "            <td>City</td>\n",
    "            <td>Borrower city</td>\n",
    "            <td style=\"text-align:center\">Categorical</td>\n",
    "        </tr>\n",
    "        <tr>\n",
    "            <td>State</td>\n",
    "            <td>Borrower state</td>\n",
    "            <td style=\"text-align:center\">Categorical</td>\n",
    "        </tr>\n",
    "        <tr>\n",
    "            <td>Zip</td>\n",
    "            <td>Borrower zip code</td>\n",
    "            <td style=\"text-align:center\">Categorical</td>\n",
    "        </tr>\n",
    "        <tr>\n",
    "            <td>Bank</td>\n",
    "            <td>Bank name</td>\n",
    "            <td style=\"text-align:center\">Categorical</td>\n",
    "        </tr>\n",
    "        <tr>\n",
    "            <td>BankState</td>\n",
    "            <td>Bank state</td>\n",
    "            <td style=\"text-align:center\">Categorical</td>\n",
    "        </tr>\n",
    "        <tr>\n",
    "            <td>NAICS</td>\n",
    "            <td>North American industry classification system code</td>\n",
    "            <td style=\"text-align:center\">Categorical</td>\n",
    "        </tr>\n",
    "        <tr>\n",
    "            <td>ApprovalDate</td>\n",
    "            <td>Date SBA commitment issued</td>\n",
    "            <td style=\"text-align:center\">Datetime</td>\n",
    "        </tr>\n",
    "        <tr>\n",
    "            <td>ApprovalFY</td>\n",
    "            <td>Fiscal year of commitment</td>\n",
    "            <td style=\"text-align:center\">Categorical</td>\n",
    "        </tr>\n",
    "        <tr>\n",
    "            <td>Term</td>\n",
    "            <td>Loan term in months</td>\n",
    "            <td style=\"text-align:center\">Numerical</td>\n",
    "        </tr>\n",
    "        <tr>\n",
    "            <td>NoEmp</td>\n",
    "            <td>Number of business employees</td>\n",
    "            <td style=\"text-align:center\">Numerical</td>\n",
    "        </tr>\n",
    "        <tr>\n",
    "            <td>NewExist</td>\n",
    "            <td>1 = Existing business, 2 = New business</td>\n",
    "            <td style=\"text-align:center\">Categorical</td>\n",
    "        </tr>\n",
    "        <tr>\n",
    "            <td>CreateJob</td>\n",
    "            <td>Number of jobs created</td>\n",
    "            <td style=\"text-align:center\">Numerical</td>\n",
    "        </tr>\n",
    "        <tr>\n",
    "            <td>RetainedJob</td>\n",
    "            <td>Number of jobs retained</td>\n",
    "            <td style=\"text-align:center\">Numerical</td>\n",
    "        </tr>\n",
    "        <tr>\n",
    "            <td>FranchiseCode</td>\n",
    "            <td>Franchise code, (00000 or 00001) = No franchise</td>\n",
    "            <td style=\"text-align:center\">Categorical</td>\n",
    "        </tr>\n",
    "        <tr>\n",
    "            <td>UrbanRural</td>\n",
    "            <td>1 = Urban, 2 = rural, 0 = undefined</td>\n",
    "            <td style=\"text-align:center\">Categorical</td>\n",
    "        </tr>\n",
    "        <tr>\n",
    "            <td>RevLineCr</td>\n",
    "            <td>Revolving line of credit: Y = Yes, N = No</td>\n",
    "            <td style=\"text-align:center\">Categorical</td>\n",
    "        </tr>\n",
    "        <tr>\n",
    "            <td>LowDoc</td>\n",
    "            <td>LowDoc Loan Program: Y = Yes, N = No</td>\n",
    "            <td style=\"text-align:center\">Categorical</td>\n",
    "        </tr>\n",
    "        <tr>\n",
    "            <td>ChgOffDate</td>\n",
    "            <td>The date when a loan is declared to be in default</td>\n",
    "            <td style=\"text-align:center\">Datetime</td>\n",
    "        </tr>\n",
    "        <tr>\n",
    "            <td>DisbursementDate</td>\n",
    "            <td>Disbursement date</td>\n",
    "            <td style=\"text-align:center\">Datetime</td>\n",
    "        </tr>\n",
    "        <tr>\n",
    "            <td>DisbursementGross</td>\n",
    "            <td>Amount disbursed</td>\n",
    "            <td style=\"text-align:center\">Numerical</td>\n",
    "        </tr>\n",
    "        <tr>\n",
    "            <td>BalanceGross</td>\n",
    "            <td>Gross amount outstanding</td>\n",
    "            <td style=\"text-align:center\">Numerical</td>\n",
    "        </tr>\n",
    "        <tr>\n",
    "            <td>MIS_Status</td>\n",
    "            <td>Loan status charged off = CHGOFF, Paid in full =PIF</td>\n",
    "            <td style=\"text-align:center\">Categorical</td>\n",
    "        </tr>\n",
    "        <tr>\n",
    "            <td>ChgOffPrinGr</td>\n",
    "            <td>Charged-off amount</td>\n",
    "            <td style=\"text-align:center\">Numerical</td>\n",
    "        </tr>\n",
    "        <tr>\n",
    "            <td>GrAppv</td>\n",
    "            <td>Gross amount of loan approved by bank</td>\n",
    "            <td style=\"text-align:center\">Numerical</td>\n",
    "        </tr>\n",
    "        <tr>\n",
    "            <td>SBA_Appv</td>\n",
    "            <td>SBA’s guaranteed amount of approved loan</td>\n",
    "            <td style=\"text-align:center\">Numerical</td>\n",
    "        </tr>\n",
    "    </tbody>\n",
    "</table>"
   ]
  },
  {
   "cell_type": "markdown",
   "metadata": {},
   "source": [
    "<h3>Description of NAICS Code</h3>\n",
    "\n",
    "\"The North American Industry Classification System (NAICS) is the standard used by Federal statistical agencies in classifying business establishments for the purpose of collecting, analyzing, and publishing statistical data related to the U.S. business economy.\"\n",
    "\n",
    "<a href=\"https://www.census.gov/cgi-bin/sssd/naics/naicsrch?chart=2012\">https://www.census.gov/cgi-bin/sssd/naics/naicsrch?chart=2012</a><br>\n",
    "\n",
    "The table below shows the meaning of the first two digits of the NAICS code:<br>\n",
    "\n",
    "<table align=\"left\">\n",
    "    <thead>\n",
    "        <th>Sector</th>\n",
    "        <th>Description</th>\n",
    "    </thead>\n",
    "    <tbody>             \n",
    "        <tr>\n",
    "            <td>11</td>\n",
    "            <td>Agriculture, Forestry, Fishing and Hunting</td>\n",
    "        </tr>\n",
    "        <tr>\n",
    "            <td>21</td>\n",
    "            <td class=\"even\">Mining, Quarrying, and Oil and Gas Extraction</td>    \n",
    "        </tr>\n",
    "        <tr>\n",
    "            <td>22</td>\n",
    "            <td>Utilities</td>\n",
    "        </tr>\n",
    "        <tr>\n",
    "            <td>23</td>\n",
    "            <td>Construction</td>\n",
    "        </tr>\n",
    "        <tr> \n",
    "            <td>31-33</td>\n",
    "            <td>Manufacturing</td>\n",
    "        </tr>\n",
    "        <tr> \n",
    "            <td>42</td>\n",
    "            <td>Wholesale Trade</td>\n",
    "        </tr>\n",
    "        <tr>\n",
    "            <td>44-45</td>\n",
    "            <td>Retail Trade</td>\n",
    "        </tr>\n",
    "        <tr>\n",
    "            <td>48-49</td>\n",
    "            <td>Transportation and Warehousing</td>\n",
    "        </tr>\n",
    "        <tr>\n",
    "            <td>51</td>\n",
    "            <td>Information</td>\n",
    "        </tr>\n",
    "        <tr> \n",
    "            <td>52</td>\n",
    "            <td>Finance and Insurance</td>\n",
    "        </tr>\n",
    "        <tr>\n",
    "            <td>53</td>\n",
    "            <td>Real Estate and Rental and Leasing</td>\n",
    "        </tr>\n",
    "        <tr>\n",
    "            <td>54</td>\n",
    "            <td>Professional, Scientific, and Technical Services</td>\n",
    "        </tr>\n",
    "        <tr>\n",
    "            <td>55</td>\n",
    "            <td>Management of Companies and Enterprises</td>\n",
    "        </tr>\n",
    "        <tr>\n",
    "            <td>56</td>\n",
    "            <td>Administrative and Support and Waste Management and Remediation Services</td>\n",
    "        </tr>\n",
    "        <tr>            \n",
    "            <td>61</td>\n",
    "            <td>Educational Services</td>\n",
    "        </tr>\n",
    "        <tr>\n",
    "            <td>62</td>\n",
    "            <td>Health Care and Social Assistance</td>\n",
    "        </tr>\n",
    "        <tr>\n",
    "            <td>71</td>\n",
    "            <td>Arts, Entertainment, and Recreation</td>\n",
    "        </tr>\n",
    "        <tr>\n",
    "            <td>72</td>\n",
    "            <td>Accommodation and Food Services</td>\n",
    "        </tr>\n",
    "        <tr>\n",
    "            <td>81</td>\n",
    "            <td>Other Services (except Public Administration)</td>\n",
    "        </tr>\n",
    "        <tr>\n",
    "            <td>92</td>\n",
    "            <td>Public Administration</td>\n",
    "        </tr>\n",
    "    </tbody>\n",
    "</table>\n"
   ]
  },
  {
   "cell_type": "markdown",
   "metadata": {},
   "source": [
    "<h1>Data Exploration</h1>"
   ]
  },
  {
   "cell_type": "code",
   "execution_count": 1,
   "metadata": {},
   "outputs": [
    {
     "name": "stdout",
     "output_type": "stream",
     "text": [
      "\n",
      "Data shape: 899164 rows and 27 columns\n",
      "\n"
     ]
    },
    {
     "data": {
      "text/html": [
       "<div>\n",
       "<style scoped>\n",
       "    .dataframe tbody tr th:only-of-type {\n",
       "        vertical-align: middle;\n",
       "    }\n",
       "\n",
       "    .dataframe tbody tr th {\n",
       "        vertical-align: top;\n",
       "    }\n",
       "\n",
       "    .dataframe thead th {\n",
       "        text-align: right;\n",
       "    }\n",
       "</style>\n",
       "<table border=\"1\" class=\"dataframe\">\n",
       "  <thead>\n",
       "    <tr style=\"text-align: right;\">\n",
       "      <th></th>\n",
       "      <th>LoanNr_ChkDgt</th>\n",
       "      <th>Name</th>\n",
       "      <th>City</th>\n",
       "      <th>State</th>\n",
       "      <th>Zip</th>\n",
       "      <th>Bank</th>\n",
       "      <th>BankState</th>\n",
       "      <th>NAICS</th>\n",
       "      <th>ApprovalDate</th>\n",
       "      <th>ApprovalFY</th>\n",
       "      <th>...</th>\n",
       "      <th>RevLineCr</th>\n",
       "      <th>LowDoc</th>\n",
       "      <th>ChgOffDate</th>\n",
       "      <th>DisbursementDate</th>\n",
       "      <th>DisbursementGross</th>\n",
       "      <th>BalanceGross</th>\n",
       "      <th>MIS_Status</th>\n",
       "      <th>ChgOffPrinGr</th>\n",
       "      <th>GrAppv</th>\n",
       "      <th>SBA_Appv</th>\n",
       "    </tr>\n",
       "  </thead>\n",
       "  <tbody>\n",
       "    <tr>\n",
       "      <th>0</th>\n",
       "      <td>1000014003</td>\n",
       "      <td>ABC HOBBYCRAFT</td>\n",
       "      <td>EVANSVILLE</td>\n",
       "      <td>IN</td>\n",
       "      <td>47711</td>\n",
       "      <td>FIFTH THIRD BANK</td>\n",
       "      <td>OH</td>\n",
       "      <td>451120</td>\n",
       "      <td>1997-02-28</td>\n",
       "      <td>1997</td>\n",
       "      <td>...</td>\n",
       "      <td>N</td>\n",
       "      <td>Y</td>\n",
       "      <td>NaT</td>\n",
       "      <td>1999-02-28</td>\n",
       "      <td>$60,000.00</td>\n",
       "      <td>$0.00</td>\n",
       "      <td>P I F</td>\n",
       "      <td>$0.00</td>\n",
       "      <td>$60,000.00</td>\n",
       "      <td>$48,000.00</td>\n",
       "    </tr>\n",
       "    <tr>\n",
       "      <th>1</th>\n",
       "      <td>1000024006</td>\n",
       "      <td>LANDMARK BAR &amp; GRILLE (THE)</td>\n",
       "      <td>NEW PARIS</td>\n",
       "      <td>IN</td>\n",
       "      <td>46526</td>\n",
       "      <td>1ST SOURCE BANK</td>\n",
       "      <td>IN</td>\n",
       "      <td>722410</td>\n",
       "      <td>1997-02-28</td>\n",
       "      <td>1997</td>\n",
       "      <td>...</td>\n",
       "      <td>N</td>\n",
       "      <td>Y</td>\n",
       "      <td>NaT</td>\n",
       "      <td>1997-05-31</td>\n",
       "      <td>$40,000.00</td>\n",
       "      <td>$0.00</td>\n",
       "      <td>P I F</td>\n",
       "      <td>$0.00</td>\n",
       "      <td>$40,000.00</td>\n",
       "      <td>$32,000.00</td>\n",
       "    </tr>\n",
       "    <tr>\n",
       "      <th>2</th>\n",
       "      <td>1000034009</td>\n",
       "      <td>WHITLOCK DDS, TODD M.</td>\n",
       "      <td>BLOOMINGTON</td>\n",
       "      <td>IN</td>\n",
       "      <td>47401</td>\n",
       "      <td>GRANT COUNTY STATE BANK</td>\n",
       "      <td>IN</td>\n",
       "      <td>621210</td>\n",
       "      <td>1997-02-28</td>\n",
       "      <td>1997</td>\n",
       "      <td>...</td>\n",
       "      <td>N</td>\n",
       "      <td>N</td>\n",
       "      <td>NaT</td>\n",
       "      <td>1997-12-31</td>\n",
       "      <td>$287,000.00</td>\n",
       "      <td>$0.00</td>\n",
       "      <td>P I F</td>\n",
       "      <td>$0.00</td>\n",
       "      <td>$287,000.00</td>\n",
       "      <td>$215,250.00</td>\n",
       "    </tr>\n",
       "    <tr>\n",
       "      <th>3</th>\n",
       "      <td>1000044001</td>\n",
       "      <td>BIG BUCKS PAWN &amp; JEWELRY, LLC</td>\n",
       "      <td>BROKEN ARROW</td>\n",
       "      <td>OK</td>\n",
       "      <td>74012</td>\n",
       "      <td>1ST NATL BK &amp; TR CO OF BROKEN</td>\n",
       "      <td>OK</td>\n",
       "      <td>0</td>\n",
       "      <td>1997-02-28</td>\n",
       "      <td>1997</td>\n",
       "      <td>...</td>\n",
       "      <td>N</td>\n",
       "      <td>Y</td>\n",
       "      <td>NaT</td>\n",
       "      <td>1997-06-30</td>\n",
       "      <td>$35,000.00</td>\n",
       "      <td>$0.00</td>\n",
       "      <td>P I F</td>\n",
       "      <td>$0.00</td>\n",
       "      <td>$35,000.00</td>\n",
       "      <td>$28,000.00</td>\n",
       "    </tr>\n",
       "    <tr>\n",
       "      <th>4</th>\n",
       "      <td>1000054004</td>\n",
       "      <td>ANASTASIA CONFECTIONS, INC.</td>\n",
       "      <td>ORLANDO</td>\n",
       "      <td>FL</td>\n",
       "      <td>32801</td>\n",
       "      <td>FLORIDA BUS. DEVEL CORP</td>\n",
       "      <td>FL</td>\n",
       "      <td>0</td>\n",
       "      <td>1997-02-28</td>\n",
       "      <td>1997</td>\n",
       "      <td>...</td>\n",
       "      <td>N</td>\n",
       "      <td>N</td>\n",
       "      <td>NaT</td>\n",
       "      <td>1997-05-14</td>\n",
       "      <td>$229,000.00</td>\n",
       "      <td>$0.00</td>\n",
       "      <td>P I F</td>\n",
       "      <td>$0.00</td>\n",
       "      <td>$229,000.00</td>\n",
       "      <td>$229,000.00</td>\n",
       "    </tr>\n",
       "  </tbody>\n",
       "</table>\n",
       "<p>5 rows × 27 columns</p>\n",
       "</div>"
      ],
      "text/plain": [
       "  LoanNr_ChkDgt                           Name          City State    Zip  \\\n",
       "0    1000014003                 ABC HOBBYCRAFT    EVANSVILLE    IN  47711   \n",
       "1    1000024006    LANDMARK BAR & GRILLE (THE)     NEW PARIS    IN  46526   \n",
       "2    1000034009          WHITLOCK DDS, TODD M.   BLOOMINGTON    IN  47401   \n",
       "3    1000044001  BIG BUCKS PAWN & JEWELRY, LLC  BROKEN ARROW    OK  74012   \n",
       "4    1000054004    ANASTASIA CONFECTIONS, INC.       ORLANDO    FL  32801   \n",
       "\n",
       "                            Bank BankState   NAICS ApprovalDate ApprovalFY  \\\n",
       "0               FIFTH THIRD BANK        OH  451120   1997-02-28       1997   \n",
       "1                1ST SOURCE BANK        IN  722410   1997-02-28       1997   \n",
       "2        GRANT COUNTY STATE BANK        IN  621210   1997-02-28       1997   \n",
       "3  1ST NATL BK & TR CO OF BROKEN        OK       0   1997-02-28       1997   \n",
       "4        FLORIDA BUS. DEVEL CORP        FL       0   1997-02-28       1997   \n",
       "\n",
       "   ...  RevLineCr  LowDoc ChgOffDate  DisbursementDate  DisbursementGross  \\\n",
       "0  ...          N       Y        NaT        1999-02-28        $60,000.00    \n",
       "1  ...          N       Y        NaT        1997-05-31        $40,000.00    \n",
       "2  ...          N       N        NaT        1997-12-31       $287,000.00    \n",
       "3  ...          N       Y        NaT        1997-06-30        $35,000.00    \n",
       "4  ...          N       N        NaT        1997-05-14       $229,000.00    \n",
       "\n",
       "  BalanceGross MIS_Status ChgOffPrinGr        GrAppv      SBA_Appv  \n",
       "0       $0.00       P I F       $0.00    $60,000.00    $48,000.00   \n",
       "1       $0.00       P I F       $0.00    $40,000.00    $32,000.00   \n",
       "2       $0.00       P I F       $0.00   $287,000.00   $215,250.00   \n",
       "3       $0.00       P I F       $0.00    $35,000.00    $28,000.00   \n",
       "4       $0.00       P I F       $0.00   $229,000.00   $229,000.00   \n",
       "\n",
       "[5 rows x 27 columns]"
      ]
     },
     "execution_count": 1,
     "metadata": {},
     "output_type": "execute_result"
    }
   ],
   "source": [
    "import time\n",
    "\n",
    "import numpy as np\n",
    "import matplotlib.pyplot as plt\n",
    "import pandas as pd\n",
    "\n",
    "from sklearn.impute import SimpleImputer\n",
    "from sklearn.compose import make_column_transformer\n",
    "from sklearn.preprocessing import OneHotEncoder\n",
    "from sklearn.preprocessing import LabelEncoder\n",
    "from sklearn.preprocessing import StandardScaler\n",
    "from sklearn.model_selection import train_test_split\n",
    "from sklearn.model_selection import cross_val_score\n",
    "from sklearn.linear_model import LogisticRegression\n",
    "from sklearn.pipeline import make_pipeline\n",
    "from sklearn.svm import SVC\n",
    "from sklearn.neighbors import KNeighborsClassifier\n",
    "from sklearn.discriminant_analysis import LinearDiscriminantAnalysis as LDA\n",
    "from sklearn.decomposition import PCA\n",
    "from sklearn.decomposition import KernelPCA\n",
    "from sklearn.model_selection import GridSearchCV\n",
    "\n",
    "\n",
    "date_columns = ['ApprovalDate', 'ChgOffDate', 'DisbursementDate']\n",
    "custom_date_parser = lambda x: pd.to_datetime(x, format=\"%d-%b-%y\")\n",
    "\n",
    "categorical_columns = {'LoanNr_ChkDgt':'category',\n",
    "                       'Name':'category', \n",
    "                       'City':'category', \n",
    "                       'State':'category',\n",
    "                       'Zip':'category',\n",
    "                       'Bank':'category',\n",
    "                       'BankState':'category',\n",
    "                       'NAICS':'category',\n",
    "                       'ApprovalFY':'category',\n",
    "                       'NewExist':'category',\n",
    "                       'FranchiseCode':'category', \n",
    "                       'UrbanRural':'category', \n",
    "                       'RevLineCr':'category',\n",
    "                       'LowDoc':'category',\n",
    "                       'MIS_Status':'category'}\n",
    "\n",
    "currency_cols = ['SBA_Appv', 'GrAppv', 'ChgOffPrinGr', 'BalanceGross', 'DisbursementGross']\n",
    "\n",
    "#Loading the dataset\n",
    "dataset = pd.read_csv('SBAnational.csv',\n",
    "                      dtype=categorical_columns, \n",
    "                      parse_dates=date_columns, \n",
    "                      date_parser=custom_date_parser, \n",
    "                      low_memory=False)\n",
    "\n",
    "# Print the size of the dataset\n",
    "print(\"\\nData shape: {0} rows and {1} columns\\n\".format(dataset.shape[0], dataset.shape[1]))\n",
    "\n",
    "# Take a look at the first 5 rows of data\n",
    "dataset.head()"
   ]
  },
  {
   "cell_type": "code",
   "execution_count": 2,
   "metadata": {},
   "outputs": [
    {
     "data": {
      "text/html": [
       "<div>\n",
       "<style scoped>\n",
       "    .dataframe tbody tr th:only-of-type {\n",
       "        vertical-align: middle;\n",
       "    }\n",
       "\n",
       "    .dataframe tbody tr th {\n",
       "        vertical-align: top;\n",
       "    }\n",
       "\n",
       "    .dataframe thead th {\n",
       "        text-align: right;\n",
       "    }\n",
       "</style>\n",
       "<table border=\"1\" class=\"dataframe\">\n",
       "  <thead>\n",
       "    <tr style=\"text-align: right;\">\n",
       "      <th></th>\n",
       "      <th>Data Type</th>\n",
       "      <th>Missing Data</th>\n",
       "    </tr>\n",
       "  </thead>\n",
       "  <tbody>\n",
       "    <tr>\n",
       "      <th>LoanNr_ChkDgt</th>\n",
       "      <td>category</td>\n",
       "      <td>0</td>\n",
       "    </tr>\n",
       "    <tr>\n",
       "      <th>Name</th>\n",
       "      <td>category</td>\n",
       "      <td>14</td>\n",
       "    </tr>\n",
       "    <tr>\n",
       "      <th>City</th>\n",
       "      <td>category</td>\n",
       "      <td>30</td>\n",
       "    </tr>\n",
       "    <tr>\n",
       "      <th>State</th>\n",
       "      <td>category</td>\n",
       "      <td>14</td>\n",
       "    </tr>\n",
       "    <tr>\n",
       "      <th>Zip</th>\n",
       "      <td>category</td>\n",
       "      <td>0</td>\n",
       "    </tr>\n",
       "    <tr>\n",
       "      <th>Bank</th>\n",
       "      <td>category</td>\n",
       "      <td>1559</td>\n",
       "    </tr>\n",
       "    <tr>\n",
       "      <th>BankState</th>\n",
       "      <td>category</td>\n",
       "      <td>1566</td>\n",
       "    </tr>\n",
       "    <tr>\n",
       "      <th>NAICS</th>\n",
       "      <td>category</td>\n",
       "      <td>0</td>\n",
       "    </tr>\n",
       "    <tr>\n",
       "      <th>ApprovalDate</th>\n",
       "      <td>datetime64[ns]</td>\n",
       "      <td>0</td>\n",
       "    </tr>\n",
       "    <tr>\n",
       "      <th>ApprovalFY</th>\n",
       "      <td>category</td>\n",
       "      <td>0</td>\n",
       "    </tr>\n",
       "    <tr>\n",
       "      <th>Term</th>\n",
       "      <td>int64</td>\n",
       "      <td>0</td>\n",
       "    </tr>\n",
       "    <tr>\n",
       "      <th>NoEmp</th>\n",
       "      <td>int64</td>\n",
       "      <td>0</td>\n",
       "    </tr>\n",
       "    <tr>\n",
       "      <th>NewExist</th>\n",
       "      <td>category</td>\n",
       "      <td>136</td>\n",
       "    </tr>\n",
       "    <tr>\n",
       "      <th>CreateJob</th>\n",
       "      <td>int64</td>\n",
       "      <td>0</td>\n",
       "    </tr>\n",
       "    <tr>\n",
       "      <th>RetainedJob</th>\n",
       "      <td>int64</td>\n",
       "      <td>0</td>\n",
       "    </tr>\n",
       "    <tr>\n",
       "      <th>FranchiseCode</th>\n",
       "      <td>category</td>\n",
       "      <td>0</td>\n",
       "    </tr>\n",
       "    <tr>\n",
       "      <th>UrbanRural</th>\n",
       "      <td>category</td>\n",
       "      <td>0</td>\n",
       "    </tr>\n",
       "    <tr>\n",
       "      <th>RevLineCr</th>\n",
       "      <td>category</td>\n",
       "      <td>4528</td>\n",
       "    </tr>\n",
       "    <tr>\n",
       "      <th>LowDoc</th>\n",
       "      <td>category</td>\n",
       "      <td>2582</td>\n",
       "    </tr>\n",
       "    <tr>\n",
       "      <th>ChgOffDate</th>\n",
       "      <td>datetime64[ns]</td>\n",
       "      <td>736465</td>\n",
       "    </tr>\n",
       "    <tr>\n",
       "      <th>DisbursementDate</th>\n",
       "      <td>datetime64[ns]</td>\n",
       "      <td>2368</td>\n",
       "    </tr>\n",
       "    <tr>\n",
       "      <th>DisbursementGross</th>\n",
       "      <td>object</td>\n",
       "      <td>0</td>\n",
       "    </tr>\n",
       "    <tr>\n",
       "      <th>BalanceGross</th>\n",
       "      <td>object</td>\n",
       "      <td>0</td>\n",
       "    </tr>\n",
       "    <tr>\n",
       "      <th>MIS_Status</th>\n",
       "      <td>category</td>\n",
       "      <td>1997</td>\n",
       "    </tr>\n",
       "    <tr>\n",
       "      <th>ChgOffPrinGr</th>\n",
       "      <td>object</td>\n",
       "      <td>0</td>\n",
       "    </tr>\n",
       "    <tr>\n",
       "      <th>GrAppv</th>\n",
       "      <td>object</td>\n",
       "      <td>0</td>\n",
       "    </tr>\n",
       "    <tr>\n",
       "      <th>SBA_Appv</th>\n",
       "      <td>object</td>\n",
       "      <td>0</td>\n",
       "    </tr>\n",
       "  </tbody>\n",
       "</table>\n",
       "</div>"
      ],
      "text/plain": [
       "                        Data Type  Missing Data\n",
       "LoanNr_ChkDgt            category             0\n",
       "Name                     category            14\n",
       "City                     category            30\n",
       "State                    category            14\n",
       "Zip                      category             0\n",
       "Bank                     category          1559\n",
       "BankState                category          1566\n",
       "NAICS                    category             0\n",
       "ApprovalDate       datetime64[ns]             0\n",
       "ApprovalFY               category             0\n",
       "Term                        int64             0\n",
       "NoEmp                       int64             0\n",
       "NewExist                 category           136\n",
       "CreateJob                   int64             0\n",
       "RetainedJob                 int64             0\n",
       "FranchiseCode            category             0\n",
       "UrbanRural               category             0\n",
       "RevLineCr                category          4528\n",
       "LowDoc                   category          2582\n",
       "ChgOffDate         datetime64[ns]        736465\n",
       "DisbursementDate   datetime64[ns]          2368\n",
       "DisbursementGross          object             0\n",
       "BalanceGross               object             0\n",
       "MIS_Status               category          1997\n",
       "ChgOffPrinGr               object             0\n",
       "GrAppv                     object             0\n",
       "SBA_Appv                   object             0"
      ]
     },
     "execution_count": 2,
     "metadata": {},
     "output_type": "execute_result"
    }
   ],
   "source": [
    "# Print a summary of the data types and missing values\n",
    "summary = pd.DataFrame(data={'Data Type': dataset.dtypes, 'Missing Data': dataset.isnull().sum()});\n",
    "summary"
   ]
  },
  {
   "cell_type": "markdown",
   "metadata": {},
   "source": [
    "At first glance we can see that we have 899164 rows and 27 columns.\n",
    "\n",
    "From the table above we see that we have 3 datetime, 15 categorical, and 9 numerical columns. Of the 9 numerical columns, 5 are currently listed as string objects, but they represent dollar amounts and will need to be converted to numerical values.\n",
    "\n",
    "We can see that the following columns have missing data:<br>\n",
    "<pre>\n",
    "Name                     14\n",
    "City                     30\n",
    "State                    14\n",
    "Bank                   1559\n",
    "BankState              1566\n",
    "NewExist                136\n",
    "RevLineCr              4528\n",
    "LowDoc                 2582\n",
    "ChgOffDate           736465\n",
    "DisbursementDate       2368\n",
    "MIS_Status             1997\n",
    "</pre>"
   ]
  },
  {
   "cell_type": "markdown",
   "metadata": {},
   "source": [
    "<h2>Categorical Columns</h2>\n",
    "\n",
    "The following columns will be skipped because they do not provide any useful information on the credit worthiness of the borrower.\n",
    "<ul>\n",
    "    <li>LoanNr_ChkDgt</li>\n",
    "    <li>Name</li>\n",
    "    <li>Bank</li>\n",
    "</ul>"
   ]
  },
  {
   "cell_type": "markdown",
   "metadata": {},
   "source": [
    "<h3>City, State, Zip</h3>"
   ]
  },
  {
   "cell_type": "code",
   "execution_count": 3,
   "metadata": {},
   "outputs": [
    {
     "name": "stdout",
     "output_type": "stream",
     "text": [
      "Summary for City\n",
      "\n",
      "LOS ANGELES         11558\n",
      "HOUSTON             10247\n",
      "NEW YORK             7846\n",
      "CHICAGO              6036\n",
      "MIAMI                5594\n",
      "                    ...  \n",
      "Orland Hills            1\n",
      "FRANKLIN PK             1\n",
      "Orono                   1\n",
      "FRANKLIN FURNACE        1\n",
      "#115, BALTIMORE         1\n",
      "Name: City, Length: 32581, dtype: int64\n",
      "[EVANSVILLE, NEW PARIS, BLOOMINGTON, BROKEN ARROW, ORLANDO, ..., NEW BRUNEWICK, PASA ROBLES, MURFRECSBORO, E WENALCHEE, SO. OZONE PARK]\n",
      "Length: 32582\n",
      "Categories (32581, object): [EVANSVILLE, NEW PARIS, BLOOMINGTON, BROKEN ARROW, ..., PASA ROBLES, MURFRECSBORO, E WENALCHEE, SO. OZONE PARK]\n",
      "\n",
      "Sumamry for State\n",
      "\n",
      "CA    130619\n",
      "TX     70458\n",
      "NY     57693\n",
      "FL     41212\n",
      "PA     35170\n",
      "OH     32622\n",
      "IL     29669\n",
      "MA     25272\n",
      "MN     24373\n",
      "NJ     24035\n",
      "WA     23263\n",
      "GA     22277\n",
      "WI     21040\n",
      "MO     20678\n",
      "CO     20605\n",
      "MI     20545\n",
      "UT     18776\n",
      "AZ     17631\n",
      "NC     14294\n",
      "IN     14132\n",
      "MD     13269\n",
      "VA     13264\n",
      "CT     12229\n",
      "NH     12109\n",
      "IA     11996\n",
      "KS     11464\n",
      "OR     11051\n",
      "OK      9950\n",
      "LA      9576\n",
      "ID      9498\n",
      "TN      9403\n",
      "RI      9028\n",
      "MT      8749\n",
      "AL      8362\n",
      "NV      8024\n",
      "KY      7723\n",
      "MS      7686\n",
      "NE      6386\n",
      "AR      6341\n",
      "NM      6033\n",
      "ME      5944\n",
      "SC      5597\n",
      "VT      5454\n",
      "ND      5245\n",
      "SD      4431\n",
      "HI      3610\n",
      "WV      3287\n",
      "WY      2839\n",
      "AK      2405\n",
      "DE      2220\n",
      "DC      1613\n",
      "Name: State, dtype: int64\n",
      "[IN, OK, FL, CT, NJ, ..., SD, HI, DE, DC, NaN]\n",
      "Length: 52\n",
      "Categories (51, object): [IN, OK, FL, CT, ..., SD, HI, DE, DC]\n",
      "\n",
      "Sumamry for Zip\n",
      "\n",
      "10001    933\n",
      "90015    926\n",
      "93401    806\n",
      "90010    733\n",
      "33166    671\n",
      "        ... \n",
      "26782      1\n",
      "41124      1\n",
      "41121      1\n",
      "26812      1\n",
      "52212      1\n",
      "Name: Zip, Length: 33611, dtype: int64\n",
      "[47711, 46526, 47401, 74012, 32801, ..., 61482, 90671, 70036, 66549, 26134]\n",
      "Length: 33611\n",
      "Categories (33611, object): [47711, 46526, 47401, 74012, ..., 90671, 70036, 66549, 26134]\n"
     ]
    }
   ],
   "source": [
    "print('Summary for City\\n')\n",
    "print(dataset.City.value_counts())\n",
    "print(dataset.City.values.unique())\n",
    "\n",
    "print('\\nSumamry for State\\n')\n",
    "print(dataset.State.value_counts())\n",
    "print(dataset.State.values.unique())\n",
    "\n",
    "print('\\nSumamry for Zip\\n')\n",
    "print(dataset.Zip.value_counts())\n",
    "print(dataset.Zip.values.unique())"
   ]
  },
  {
   "cell_type": "markdown",
   "metadata": {},
   "source": [
    "From the above summaries we can see that there are 32581 Cities, 51 States (including DC), and 33611 zip codes.\n",
    "\n",
    "We will take a closer look at the distribution of the State column. There are too many Cities and Zip codes, so we will skip those.\n",
    "\n",
    "<b>Decision: Remove the City and Zip columns due to the vast number of categories.</b>"
   ]
  },
  {
   "cell_type": "code",
   "execution_count": 4,
   "metadata": {},
   "outputs": [
    {
     "data": {
      "image/png": "[encoded data removed]",
      "text/plain": [
       "<Figure size 1800x720 with 1 Axes>"
      ]
     },
     "metadata": {
      "needs_background": "light"
     },
     "output_type": "display_data"
    }
   ],
   "source": [
    "# Create a bar plot of the State\n",
    "plt.figure(figsize=(25, 10))\n",
    "plt.title('Distribution of Data by State')\n",
    "plt.xlabel('State')\n",
    "plt.ylabel('Frequency/Count')\n",
    "dataset.State.value_counts().plot.bar(rot=0)\n",
    "plt.show()"
   ]
  },
  {
   "cell_type": "markdown",
   "metadata": {},
   "source": [
    "From the above State distribution plot we can see the data is quite imbalanced from that prespective. Majority of the loans are granted in the state of California. The data is so imbalanced that California has nearly twice and many loans as the State with the second most (Texas) loans."
   ]
  },
  {
   "cell_type": "markdown",
   "metadata": {},
   "source": [
    "<h3>BankState</h3>\n",
    "\n",
    "The BankState dosn't provide any useful information on whether the borrower will default on thier loan or not. However, for curiosity sake, we will look at its distribution."
   ]
  },
  {
   "cell_type": "code",
   "execution_count": 5,
   "metadata": {},
   "outputs": [
    {
     "data": {
      "image/png": "[encoded data removed]",
      "text/plain": [
       "<Figure size 1800x720 with 1 Axes>"
      ]
     },
     "metadata": {
      "needs_background": "light"
     },
     "output_type": "display_data"
    }
   ],
   "source": [
    "# Create a bar plot of the State\n",
    "plt.figure(figsize=(25, 10))\n",
    "plt.title('Distribution of Data by Bank State')\n",
    "plt.xlabel('BankState')\n",
    "plt.ylabel('Frequency/Count')\n",
    "dataset.BankState.value_counts().plot.bar(rot=0)\n",
    "plt.show()"
   ]
  },
  {
   "cell_type": "markdown",
   "metadata": {},
   "source": [
    "Seeing that majority of the lending banks are from CA, maybe it's not so surprising that majority of the borrowers are also from CA.\n",
    "\n",
    "<b>Decision: Remove the BankState column as it doesn't provide any information on the borrower's credit worthiness.</b>"
   ]
  },
  {
   "cell_type": "markdown",
   "metadata": {},
   "source": [
    "<h3>NAICS</h3>"
   ]
  },
  {
   "cell_type": "code",
   "execution_count": 6,
   "metadata": {},
   "outputs": [
    {
     "data": {
      "text/plain": [
       "0         201948\n",
       "722110     27989\n",
       "722211     19448\n",
       "811111     14585\n",
       "621210     14048\n",
       "           ...  \n",
       "331411         1\n",
       "111992         1\n",
       "312210         1\n",
       "327120         1\n",
       "327410         1\n",
       "Name: NAICS, Length: 1312, dtype: int64"
      ]
     },
     "execution_count": 6,
     "metadata": {},
     "output_type": "execute_result"
    }
   ],
   "source": [
    "dataset.NAICS.value_counts()"
   ]
  },
  {
   "cell_type": "markdown",
   "metadata": {},
   "source": [
    "There are 201948 rows with an undefined industry code. We will have to address that later."
   ]
  },
  {
   "cell_type": "markdown",
   "metadata": {},
   "source": [
    "<h3>ApprovalFY</h3>"
   ]
  },
  {
   "cell_type": "code",
   "execution_count": 7,
   "metadata": {},
   "outputs": [
    {
     "data": {
      "text/plain": [
       "2005     77525\n",
       "2006     76040\n",
       "2007     71876\n",
       "2004     68290\n",
       "2003     58193\n",
       "1995     45758\n",
       "2002     44391\n",
       "1996     40112\n",
       "2008     39540\n",
       "1997     37748\n",
       "2000     37381\n",
       "1999     37363\n",
       "2001     37350\n",
       "1998     36016\n",
       "1994     31598\n",
       "1993     23305\n",
       "1992     20885\n",
       "2009     19126\n",
       "2010     16848\n",
       "1991     15666\n",
       "1990     14859\n",
       "1989     13248\n",
       "2011     12608\n",
       "2012      5997\n",
       "2013      2458\n",
       "1987      2218\n",
       "1986      2118\n",
       "1984      2022\n",
       "1985      1944\n",
       "1988      1898\n",
       "1983      1684\n",
       "1982       719\n",
       "1981       630\n",
       "1980       477\n",
       "1979       352\n",
       "2014       268\n",
       "1978       242\n",
       "1977       137\n",
       "1976        66\n",
       "1973        52\n",
       "1974        42\n",
       "1975        30\n",
       "1972        27\n",
       "1971        20\n",
       "1976A       18\n",
       "1970         8\n",
       "1969         4\n",
       "1968         2\n",
       "1967         2\n",
       "1966         1\n",
       "1965         1\n",
       "1962         1\n",
       "Name: ApprovalFY, dtype: int64"
      ]
     },
     "execution_count": 7,
     "metadata": {},
     "output_type": "execute_result"
    }
   ],
   "source": [
    "dataset.ApprovalFY.value_counts()"
   ]
  },
  {
   "cell_type": "markdown",
   "metadata": {},
   "source": [
    "From the above summary we can see that there is an obvious error in the data. The year 1976A is not valid. We will temporarily fix that and then look at the distribution for the ApprovalFY."
   ]
  },
  {
   "cell_type": "code",
   "execution_count": 8,
   "metadata": {},
   "outputs": [
    {
     "data": {
      "image/png": "[encoded data removed]",
      "text/plain": [
       "<Figure size 1800x720 with 1 Axes>"
      ]
     },
     "metadata": {
      "needs_background": "light"
     },
     "output_type": "display_data"
    }
   ],
   "source": [
    "# Make a temporary copy of the data and change 1976A to 1976\n",
    "fy_df = dataset.ApprovalFY.copy()\n",
    "fy_df[fy_df == '1976A'] = '1976'\n",
    "fy_df.cat.remove_categories('1976A', inplace=True)\n",
    "fy_df = fy_df.astype('int64')\n",
    "\n",
    "# Create a bar plot of the ApprovalFY\n",
    "plt.figure(figsize=(25, 10))\n",
    "plt.title('Distribution of Data by ApprovalFY')\n",
    "plt.xlabel('ApprovalFY')\n",
    "plt.ylabel('Frequency/Count')\n",
    "fy_df.value_counts(sort=False).plot.bar()\n",
    "plt.show()"
   ]
  },
  {
   "cell_type": "markdown",
   "metadata": {},
   "source": [
    "The above plot looks interesting. We can see that the number of loans started to increase in 1989. It somewhat plateaus between 1996 and 2001. From 2002 it starts to increase again. From 2008 it starts to drop drastically. That is probably because of the \"Great Recession\". \n",
    "\n",
    "<b>Decision: Change 1976A to 1976 in the ApprovalFY column.</b>"
   ]
  },
  {
   "cell_type": "markdown",
   "metadata": {},
   "source": [
    "<h3>FranchiseCode</h3>"
   ]
  },
  {
   "cell_type": "code",
   "execution_count": 9,
   "metadata": {},
   "outputs": [
    {
     "data": {
      "text/plain": [
       "1        638554\n",
       "0        208835\n",
       "78760      3373\n",
       "68020      1921\n",
       "50564      1034\n",
       "          ...  \n",
       "50035         1\n",
       "50078         1\n",
       "50528         1\n",
       "50566         1\n",
       "51575         1\n",
       "Name: FranchiseCode, Length: 2768, dtype: int64"
      ]
     },
     "execution_count": 9,
     "metadata": {},
     "output_type": "execute_result"
    }
   ],
   "source": [
    "dataset.FranchiseCode.value_counts()"
   ]
  },
  {
   "cell_type": "markdown",
   "metadata": {},
   "source": [
    "From the data description, a value of 0 or 1 means that it's not a franchise. When cleaning the data it may be worth creating another column indicating wether the borrower is a franchise or not.\n",
    "\n",
    "<b>Decision: Create a IsFranchise column where 1 means the brrower is a franchise and 0 means that the borrower is not.</b><br>\n",
    "<b>Decision: Drop the FranchiseCode column</b>"
   ]
  },
  {
   "cell_type": "markdown",
   "metadata": {},
   "source": [
    "<h3>NewExist, UrbanRural, RevLineCr, LowDoc</h3>"
   ]
  },
  {
   "cell_type": "code",
   "execution_count": 10,
   "metadata": {},
   "outputs": [
    {
     "name": "stdout",
     "output_type": "stream",
     "text": [
      "NewExist ['0' '1' '2']\n",
      "UrbanRural ['0' '1' '2']\n",
      "RevLineCr [',' '-' '.' '0' '1' '2' '3' '4' '5' '7' 'A' 'C' 'N' 'Q' 'R' 'T' 'Y' '`']\n",
      "LowDoc ['0' '1' 'A' 'C' 'N' 'R' 'S' 'Y']\n"
     ]
    }
   ],
   "source": [
    "# Print the categories\n",
    "print(\"NewExist\", dataset.NewExist.cat.categories.values)\n",
    "print(\"UrbanRural\", dataset.UrbanRural.cat.categories.values)\n",
    "print(\"RevLineCr\", dataset.RevLineCr.cat.categories.values)\n",
    "print(\"LowDoc\", dataset.LowDoc.cat.categories.values)"
   ]
  },
  {
   "cell_type": "markdown",
   "metadata": {},
   "source": [
    "Taking a quick look at the above four columns, we can see that they have some erroneous data.\n",
    "\n",
    "Let's take a quick look at the distributions for these columns."
   ]
  },
  {
   "cell_type": "code",
   "execution_count": 11,
   "metadata": {},
   "outputs": [
    {
     "data": {
      "image/png": "[encoded data removed]",
      "text/plain": [
       "<Figure size 1440x1440 with 4 Axes>"
      ]
     },
     "metadata": {
      "needs_background": "light"
     },
     "output_type": "display_data"
    }
   ],
   "source": [
    "# Columns to plot\n",
    "cols = ['NewExist', 'UrbanRural', 'RevLineCr', 'LowDoc']\n",
    "\n",
    "# Create a new figure\n",
    "fig1 = plt.figure(figsize=(20,20))\n",
    "\n",
    "# Plot the distribution for the columns\n",
    "count = 1\n",
    "for col in cols:\n",
    "    subplot = plt.subplot(3, 2, count)\n",
    "    subplot.set_title(col + ' Distribution')\n",
    "    subplot.set_xlabel(col)\n",
    "    subplot.set_ylabel('Frequency/Count')\n",
    "    dataset[col].value_counts().plot.bar(rot=0)\n",
    "    count += 1\n",
    "plt.show()"
   ]
  },
  {
   "cell_type": "markdown",
   "metadata": {},
   "source": [
    "From the above plots we can see that the NewExist, RevLineCr, and LowDoc columns have erroneous data. Fortunately, there aren't many rows with the bad data. We will have to fix this when we clean the data.\n",
    "\n",
    "<b>Decision: Replace the erroneous data in the NewExist, RevLineCr, and LowDoc columns with null.</b>"
   ]
  },
  {
   "cell_type": "markdown",
   "metadata": {},
   "source": [
    "<h3>MIS_Status</h3>"
   ]
  },
  {
   "cell_type": "code",
   "execution_count": 12,
   "metadata": {},
   "outputs": [
    {
     "data": {
      "text/plain": [
       "P I F     739609\n",
       "CHGOFF    157558\n",
       "Name: MIS_Status, dtype: int64"
      ]
     },
     "execution_count": 12,
     "metadata": {},
     "output_type": "execute_result"
    }
   ],
   "source": [
    "dataset.MIS_Status.value_counts()"
   ]
  },
  {
   "cell_type": "code",
   "execution_count": 13,
   "metadata": {},
   "outputs": [
    {
     "data": {
      "image/png": "[encoded data removed]",
      "text/plain": [
       "<Figure size 1440x1440 with 1 Axes>"
      ]
     },
     "metadata": {
      "needs_background": "light"
     },
     "output_type": "display_data"
    }
   ],
   "source": [
    "fig1 = plt.figure(figsize=(20,20))\n",
    "\n",
    "# Plot MIS_Status\n",
    "plot1 = plt.subplot(3, 2, 1)\n",
    "plot1.set_title('Loan Status (MIS_Status)')\n",
    "plot1.set_xlabel('Loan Status')\n",
    "plot1.set_ylabel('Frequency/Count')\n",
    "dataset['MIS_Status'].value_counts().plot.bar(rot=0)\n",
    "\n",
    "plt.show()\n"
   ]
  },
  {
   "cell_type": "markdown",
   "metadata": {},
   "source": [
    "The MIS_Status is our target column. From the above plot we can see that the MIS_Status has an imbalance of data. This is something we will have to address that when we do our modeling."
   ]
  },
  {
   "cell_type": "markdown",
   "metadata": {},
   "source": [
    "<h2>Numerical Columns</h2>"
   ]
  },
  {
   "cell_type": "markdown",
   "metadata": {},
   "source": [
    "<h3>SBA_Appv, GrAppv, ChgOffPrinGr, BalanceGross, DisbursementGross</h3>"
   ]
  },
  {
   "cell_type": "code",
   "execution_count": 14,
   "metadata": {},
   "outputs": [
    {
     "name": "stdout",
     "output_type": "stream",
     "text": [
      "SBA_Appv \n",
      "\n",
      "$25,000.00      49579\n",
      "$12,500.00      40147\n",
      "$5,000.00       31135\n",
      "$50,000.00      25047\n",
      "$10,000.00      17009\n",
      "                ...  \n",
      "$59,300.00          1\n",
      "$266,130.00         1\n",
      "$722,775.00         1\n",
      "$188,055.00         1\n",
      "$206,890.00         1\n",
      "Name: SBA_Appv, Length: 38326, dtype: int64\n",
      "\n",
      "GrAppv \n",
      "\n",
      "$50,000.00      69394\n",
      "$25,000.00      51258\n",
      "$100,000.00     50977\n",
      "$10,000.00      38366\n",
      "$150,000.00     27624\n",
      "                ...  \n",
      "$331,800.00         1\n",
      "$316,935.00         1\n",
      "$163,914.00         1\n",
      "$523,553.00         1\n",
      "$82,861.00          1\n",
      "Name: GrAppv, Length: 22128, dtype: int64\n",
      "\n",
      "ChgOffPrinGr \n",
      "\n",
      "$0.00           737152\n",
      "$50,000.00        2110\n",
      "$10,000.00        1865\n",
      "$25,000.00        1371\n",
      "$35,000.00        1345\n",
      "                 ...  \n",
      "$197,578.00          1\n",
      "$213,057.00          1\n",
      "$57,233.00           1\n",
      "$97,770.00           1\n",
      "$179,709.00          1\n",
      "Name: ChgOffPrinGr, Length: 83165, dtype: int64\n",
      "\n",
      "BalanceGross \n",
      "\n",
      "$0.00           899150\n",
      "$600.00              1\n",
      "$84,617.00           1\n",
      "$115,820.00          1\n",
      "$41,509.00           1\n",
      "$96,908.00           1\n",
      "$25,000.00           1\n",
      "$43,127.00           1\n",
      "$395,476.00          1\n",
      "$1,760.00            1\n",
      "$37,100.00           1\n",
      "$12,750.00           1\n",
      "$9,111.00            1\n",
      "$996,262.00          1\n",
      "$827,875.00          1\n",
      "Name: BalanceGross, dtype: int64\n",
      "\n",
      "DisbursementGross \n",
      "\n",
      "$50,000.00      43787\n",
      "$100,000.00     36714\n",
      "$25,000.00      27387\n",
      "$150,000.00     23373\n",
      "$10,000.00      21328\n",
      "                ...  \n",
      "$122,021.00         1\n",
      "$75,477.00          1\n",
      "$407,467.00         1\n",
      "$11,446.00          1\n",
      "$59,008.00          1\n",
      "Name: DisbursementGross, Length: 118859, dtype: int64\n",
      "\n"
     ]
    }
   ],
   "source": [
    "# Print the value counts for the currency columns \n",
    "for col in currency_cols:\n",
    "    print(col, \"\\n\")\n",
    "    print(dataset[col].value_counts())\n",
    "    print()"
   ]
  },
  {
   "cell_type": "markdown",
   "metadata": {},
   "source": [
    "Nothing obvious stands out about the currency columns. When we convert the column into a numerical column we'll take a closer look.\n",
    "\n",
    "<b>Decision: Remove the dollar signs and commas from the currency columns and change the datatype to a float.</b>"
   ]
  },
  {
   "cell_type": "markdown",
   "metadata": {},
   "source": [
    "<h3>Term</h3>"
   ]
  },
  {
   "cell_type": "code",
   "execution_count": 15,
   "metadata": {},
   "outputs": [
    {
     "data": {
      "image/png": "[encoded data removed]",
      "text/plain": [
       "<Figure size 1800x720 with 1 Axes>"
      ]
     },
     "metadata": {
      "needs_background": "light"
     },
     "output_type": "display_data"
    },
    {
     "name": "stdout",
     "output_type": "stream",
     "text": [
      "count    899164.000000\n",
      "mean        110.773078\n",
      "std          78.857305\n",
      "min           0.000000\n",
      "25%          60.000000\n",
      "50%          84.000000\n",
      "75%         120.000000\n",
      "max         569.000000\n",
      "Name: Term, dtype: float64\n"
     ]
    }
   ],
   "source": [
    "# Create a histogram of the loan term\n",
    "plt.figure(figsize=(25, 10))\n",
    "plt.hist(dataset['Term'], bins=50)\n",
    "plt.title('Loan Term Distribution')\n",
    "plt.xlabel('Term (Months)')\n",
    "plt.xticks(np.arange(0, 600, step=12))\n",
    "plt.ylabel('Frequency')\n",
    "plt.yticks(np.arange(0, 300000, step=25000))\n",
    "#plt.tight_layout()\n",
    "plt.show()\n",
    "\n",
    "print(dataset['Term'].describe())"
   ]
  },
  {
   "cell_type": "markdown",
   "metadata": {},
   "source": [
    "From the Loan Term Distribution plot above, there seems to be a pretty large range of term values. The majority of the loans seem to be around 84 months. May want to consider breaking this down into subranges or whether the loan is backed by real estate. The original paper classified loans\n",
    "20 years or greater (>=240 months) to be backed by real estate.\n",
    "\n",
    "<b>Decision: Create a new RealEstate column that indicates whether the loan is backed by real estate. 1 = backed by real estate, 0 = not backed by real estate.</b>"
   ]
  },
  {
   "cell_type": "markdown",
   "metadata": {},
   "source": [
    "<h3>NoEmp</h3>"
   ]
  },
  {
   "cell_type": "code",
   "execution_count": 16,
   "metadata": {},
   "outputs": [
    {
     "data": {
      "text/plain": [
       "1       154254\n",
       "2       138297\n",
       "3        90674\n",
       "4        73644\n",
       "5        60319\n",
       "         ...  \n",
       "1644         1\n",
       "356          1\n",
       "357          1\n",
       "6501         1\n",
       "354          1\n",
       "Name: NoEmp, Length: 599, dtype: int64"
      ]
     },
     "execution_count": 16,
     "metadata": {},
     "output_type": "execute_result"
    }
   ],
   "source": [
    "dataset.NoEmp.value_counts()"
   ]
  },
  {
   "cell_type": "code",
   "execution_count": 17,
   "metadata": {},
   "outputs": [
    {
     "data": {
      "image/png": "[encoded data removed]",
      "text/plain": [
       "<Figure size 1800x720 with 1 Axes>"
      ]
     },
     "metadata": {
      "needs_background": "light"
     },
     "output_type": "display_data"
    },
    {
     "name": "stdout",
     "output_type": "stream",
     "text": [
      "count    899164.000000\n",
      "mean         11.411353\n",
      "std          74.108196\n",
      "min           0.000000\n",
      "25%           2.000000\n",
      "50%           4.000000\n",
      "75%          10.000000\n",
      "max        9999.000000\n",
      "Name: NoEmp, dtype: float64\n"
     ]
    }
   ],
   "source": [
    "# Create a histogram of the NoEmp\n",
    "plt.figure(figsize=(25, 10))\n",
    "plt.hist(dataset.NoEmp, bins=40)\n",
    "plt.title('NoEmp Distribution')\n",
    "plt.xlabel('NoEmp')\n",
    "plt.xticks(np.arange(0, dataset.NoEmp.max(), step=250))\n",
    "plt.ylabel('Frequency')\n",
    "plt.show()\n",
    "\n",
    "print(dataset.NoEmp.describe())"
   ]
  },
  {
   "cell_type": "markdown",
   "metadata": {},
   "source": [
    "The data in the  NoEmp column definitely seems skewed. The mean is 11.4 and the 75 percentile is 10 with the max at 9999."
   ]
  },
  {
   "cell_type": "markdown",
   "metadata": {},
   "source": [
    "<h3>CreateJob</h3>"
   ]
  },
  {
   "cell_type": "code",
   "execution_count": 18,
   "metadata": {},
   "outputs": [
    {
     "data": {
      "text/plain": [
       "0       629248\n",
       "1        63174\n",
       "2        57831\n",
       "3        28806\n",
       "4        20511\n",
       "         ...  \n",
       "171          1\n",
       "169          1\n",
       "166          1\n",
       "164          1\n",
       "1530         1\n",
       "Name: CreateJob, Length: 246, dtype: int64"
      ]
     },
     "execution_count": 18,
     "metadata": {},
     "output_type": "execute_result"
    }
   ],
   "source": [
    "dataset.CreateJob.value_counts()"
   ]
  },
  {
   "cell_type": "code",
   "execution_count": 19,
   "metadata": {},
   "outputs": [
    {
     "data": {
      "image/png": "[encoded data removed]",
      "text/plain": [
       "<Figure size 1800x720 with 1 Axes>"
      ]
     },
     "metadata": {
      "needs_background": "light"
     },
     "output_type": "display_data"
    },
    {
     "name": "stdout",
     "output_type": "stream",
     "text": [
      "count    899164.000000\n",
      "mean          8.430376\n",
      "std         236.688165\n",
      "min           0.000000\n",
      "25%           0.000000\n",
      "50%           0.000000\n",
      "75%           1.000000\n",
      "max        8800.000000\n",
      "Name: CreateJob, dtype: float64\n"
     ]
    }
   ],
   "source": [
    "# Create a histogram of the CreateJob\n",
    "plt.figure(figsize=(25, 10))\n",
    "plt.hist(dataset.CreateJob, bins=40)\n",
    "plt.title('CreateJob Distribution')\n",
    "plt.xlabel('CreateJob')\n",
    "plt.xticks(np.arange(0, dataset.CreateJob.max(), step=250))\n",
    "plt.ylabel('Frequency')\n",
    "plt.show()\n",
    "\n",
    "print(dataset.CreateJob.describe())"
   ]
  },
  {
   "cell_type": "markdown",
   "metadata": {},
   "source": [
    "The data in the CreateJob column also seems skewed. The mean is 8.4 and the 75 percentile is 1 with the max at 8800. The standard deviation is quite high indicating that the data is quite spread out."
   ]
  },
  {
   "cell_type": "markdown",
   "metadata": {},
   "source": [
    "<h3>RetainedJob</h3>"
   ]
  },
  {
   "cell_type": "code",
   "execution_count": 20,
   "metadata": {},
   "outputs": [
    {
     "data": {
      "text/plain": [
       "0       440403\n",
       "1        88790\n",
       "2        76851\n",
       "3        49963\n",
       "4        39666\n",
       "         ...  \n",
       "260          1\n",
       "259          1\n",
       "1111         1\n",
       "255          1\n",
       "3860         1\n",
       "Name: RetainedJob, Length: 358, dtype: int64"
      ]
     },
     "execution_count": 20,
     "metadata": {},
     "output_type": "execute_result"
    }
   ],
   "source": [
    "dataset.RetainedJob.value_counts()"
   ]
  },
  {
   "cell_type": "code",
   "execution_count": 21,
   "metadata": {},
   "outputs": [
    {
     "data": {
      "image/png": "[encoded data removed]",
      "text/plain": [
       "<Figure size 1800x720 with 1 Axes>"
      ]
     },
     "metadata": {
      "needs_background": "light"
     },
     "output_type": "display_data"
    },
    {
     "name": "stdout",
     "output_type": "stream",
     "text": [
      "count    899164.000000\n",
      "mean         10.797257\n",
      "std         237.120600\n",
      "min           0.000000\n",
      "25%           0.000000\n",
      "50%           1.000000\n",
      "75%           4.000000\n",
      "max        9500.000000\n",
      "Name: RetainedJob, dtype: float64\n"
     ]
    }
   ],
   "source": [
    "# Create a histogram of the RetainedJob\n",
    "plt.figure(figsize=(25, 10))\n",
    "plt.hist(dataset.RetainedJob, bins=40)\n",
    "plt.title('RetainedJob Distribution')\n",
    "plt.xlabel('RetainedJob')\n",
    "plt.xticks(np.arange(0, dataset.RetainedJob.max(), step=250))\n",
    "plt.ylabel('Frequency')\n",
    "plt.show()\n",
    "\n",
    "print(dataset.RetainedJob.describe())"
   ]
  },
  {
   "cell_type": "markdown",
   "metadata": {},
   "source": [
    "The data in the RetainedJob column also seems skewed. The mean is 10.7 and the 75 percentile is 4 with the max at 9500. The standard deviation is also high indicating that the data is quite spread out."
   ]
  },
  {
   "cell_type": "markdown",
   "metadata": {},
   "source": [
    "<h2>DateTime Columns</h2>"
   ]
  },
  {
   "cell_type": "markdown",
   "metadata": {},
   "source": [
    "<h3>ApprovalDate</h3>"
   ]
  },
  {
   "cell_type": "code",
   "execution_count": 22,
   "metadata": {},
   "outputs": [
    {
     "data": {
      "text/plain": [
       "1993-07-07    1131\n",
       "2004-01-30    1032\n",
       "1993-07-08     780\n",
       "2004-10-04     658\n",
       "2003-09-30     608\n",
       "              ... \n",
       "2013-10-28       1\n",
       "2008-09-01       1\n",
       "1982-01-05       1\n",
       "1976-02-17       1\n",
       "1976-12-20       1\n",
       "Name: ApprovalDate, Length: 9859, dtype: int64"
      ]
     },
     "execution_count": 22,
     "metadata": {},
     "output_type": "execute_result"
    }
   ],
   "source": [
    "dataset.ApprovalDate.value_counts()"
   ]
  },
  {
   "cell_type": "code",
   "execution_count": 23,
   "metadata": {},
   "outputs": [
    {
     "data": {
      "text/plain": [
       "count                  899164\n",
       "unique                   9859\n",
       "top       1993-07-07 00:00:00\n",
       "freq                     1131\n",
       "first     1969-01-31 00:00:00\n",
       "last      2068-12-03 00:00:00\n",
       "Name: ApprovalDate, dtype: object"
      ]
     },
     "execution_count": 23,
     "metadata": {},
     "output_type": "execute_result"
    }
   ],
   "source": [
    "dataset.ApprovalDate.describe()"
   ]
  },
  {
   "cell_type": "code",
   "execution_count": 24,
   "metadata": {},
   "outputs": [
    {
     "data": {
      "text/plain": [
       "2067-02-28    1\n",
       "2061-12-07    1\n",
       "2068-12-03    1\n",
       "2068-09-24    1\n",
       "2067-04-25    1\n",
       "2064-11-27    1\n",
       "2068-02-09    1\n",
       "2067-07-20    1\n",
       "2066-05-18    1\n",
       "Name: ApprovalDate, dtype: int64"
      ]
     },
     "execution_count": 24,
     "metadata": {},
     "output_type": "execute_result"
    }
   ],
   "source": [
    "dataset[dataset.ApprovalDate > pd.to_datetime(20150101, format='%Y%m%d')].ApprovalDate.value_counts()"
   ]
  },
  {
   "cell_type": "markdown",
   "metadata": {},
   "source": [
    "It looks like there are some issues with the ApprovalDate column since there are dates in the future. The dataset should only have data up through the end of 2014.\n",
    "\n",
    "Upon further investigation, it seems that the date issue is due to how the dates are being imported. The dates being imported are in the format dd-mmm-yy, this is an issue for dates like 16-Aug-66. Since the century is not provided, it is assumed that the century is the current century so the year 66 becomes 2066 instead of 1966."
   ]
  },
  {
   "cell_type": "markdown",
   "metadata": {},
   "source": [
    "<h3>DisbursementDate</h3>"
   ]
  },
  {
   "cell_type": "code",
   "execution_count": 25,
   "metadata": {},
   "outputs": [
    {
     "data": {
      "text/plain": [
       "1995-07-31    10371\n",
       "1995-04-30    10320\n",
       "1995-01-31     9745\n",
       "1994-10-31     8890\n",
       "1995-10-31     8161\n",
       "              ...  \n",
       "1989-03-19        1\n",
       "1973-12-05        1\n",
       "1982-12-14        1\n",
       "1976-09-09        1\n",
       "1991-07-08        1\n",
       "Name: DisbursementDate, Length: 8472, dtype: int64"
      ]
     },
     "execution_count": 25,
     "metadata": {},
     "output_type": "execute_result"
    }
   ],
   "source": [
    "dataset.DisbursementDate.value_counts()"
   ]
  },
  {
   "cell_type": "code",
   "execution_count": 26,
   "metadata": {},
   "outputs": [
    {
     "data": {
      "text/plain": [
       "count                  896796\n",
       "unique                   8472\n",
       "top       1995-07-31 00:00:00\n",
       "freq                    10371\n",
       "first     1969-05-22 00:00:00\n",
       "last      2068-11-22 00:00:00\n",
       "Name: DisbursementDate, dtype: object"
      ]
     },
     "execution_count": 26,
     "metadata": {},
     "output_type": "execute_result"
    }
   ],
   "source": [
    "dataset.DisbursementDate.describe()"
   ]
  },
  {
   "cell_type": "code",
   "execution_count": 27,
   "metadata": {},
   "outputs": [
    {
     "data": {
      "text/plain": [
       "2028-06-18    1\n",
       "2066-08-16    1\n",
       "2068-03-19    1\n",
       "2068-11-22    1\n",
       "2048-09-17    1\n",
       "2020-04-14    1\n",
       "Name: DisbursementDate, dtype: int64"
      ]
     },
     "execution_count": 27,
     "metadata": {},
     "output_type": "execute_result"
    }
   ],
   "source": [
    "dataset[dataset.DisbursementDate > pd.to_datetime(20150101, format='%Y%m%d')].DisbursementDate.value_counts()"
   ]
  },
  {
   "cell_type": "markdown",
   "metadata": {},
   "source": [
    "The DisbursementDate also has dates in the future."
   ]
  },
  {
   "cell_type": "markdown",
   "metadata": {},
   "source": [
    "<h3>ChgOffDate</h3>"
   ]
  },
  {
   "cell_type": "code",
   "execution_count": 28,
   "metadata": {},
   "outputs": [
    {
     "data": {
      "text/plain": [
       "2010-03-13    734\n",
       "2010-02-20    614\n",
       "2010-01-30    519\n",
       "2010-02-06    461\n",
       "2010-03-06    422\n",
       "             ... \n",
       "2000-05-03      1\n",
       "1996-11-22      1\n",
       "2004-05-01      1\n",
       "1998-01-26      1\n",
       "2000-01-20      1\n",
       "Name: ChgOffDate, Length: 6448, dtype: int64"
      ]
     },
     "execution_count": 28,
     "metadata": {},
     "output_type": "execute_result"
    }
   ],
   "source": [
    "dataset.ChgOffDate.value_counts()"
   ]
  },
  {
   "cell_type": "code",
   "execution_count": 29,
   "metadata": {},
   "outputs": [
    {
     "data": {
      "text/plain": [
       "count                  162699\n",
       "unique                   6448\n",
       "top       2010-03-13 00:00:00\n",
       "freq                      734\n",
       "first     1988-10-03 00:00:00\n",
       "last      2026-10-22 00:00:00\n",
       "Name: ChgOffDate, dtype: object"
      ]
     },
     "execution_count": 29,
     "metadata": {},
     "output_type": "execute_result"
    }
   ],
   "source": [
    "dataset.ChgOffDate.describe()"
   ]
  },
  {
   "cell_type": "code",
   "execution_count": 30,
   "metadata": {},
   "outputs": [
    {
     "data": {
      "text/plain": [
       "2026-10-22    1\n",
       "Name: ChgOffDate, dtype: int64"
      ]
     },
     "execution_count": 30,
     "metadata": {},
     "output_type": "execute_result"
    }
   ],
   "source": [
    "dataset[dataset.ChgOffDate > pd.to_datetime(20150101, format='%Y%m%d')].ChgOffDate.value_counts()"
   ]
  },
  {
   "cell_type": "markdown",
   "metadata": {},
   "source": [
    "The ChgOffDate column only has one date that is in the future.\n",
    "\n",
    "<b>Decision: Fix the century in the datetime columns.</b>"
   ]
  },
  {
   "cell_type": "markdown",
   "metadata": {},
   "source": [
    "<h1>Clean and format the data</h1>\n",
    "\n",
    "From our initial data exploration, we have the following issues to address:\n",
    "\n",
    "<ol>\n",
    "    <li>Remove the dollar signs and commas from the currency columns.</li>\n",
    "    <li>Fix DateTime columns: 'ApprovalDate', 'DisbursementDate', 'ChgOffDate'\n",
    "        <ul>\n",
    "            <li>The dates being imported are in the format dd-mmm-yy, this is an issue for dates like 16-Aug-66. \n",
    "                Since the century is not provided, it is assumed that the century is the current century so the \n",
    "                year 66 becomes 2066 instead of 1966. This is the primary reason why we are getting negative values \n",
    "                between the charge-off dates and the disbursement dates.</li>\n",
    "        </ul>\n",
    "    </li>\n",
    "    <li>\n",
    "        Add new columns:\n",
    "        <ul>\n",
    "            <li>TimeToDefault: 0 if paid in full, number of days from disbursment to charge off if defaulted.</li>\n",
    "            <li>Industry: based on the NAICS</li>\n",
    "            <li>RealEstate: 1 if Term >= 240 months, 0 otherwise</li>\n",
    "            <li>IsFranchise: 1 if borrower is a franchise, 0 otherwise.</li>\n",
    "        </ul>\n",
    "    </li>\n",
    "    <li>Erroneous data\n",
    "        <ul>\n",
    "            <li>NewExist, RevLineCr, and LowDoc</li>\n",
    "            <li>ApprovalFY - 1976A</li>\n",
    "        </ul>\n",
    "    </li>\n",
    "    <li>Missing data</li>\n",
    "</ol>"
   ]
  },
  {
   "cell_type": "markdown",
   "metadata": {},
   "source": [
    "<h2>Format the currency columns</h2>\n",
    "Remove the dollar signs and commas from the SBA_Appv, GrAppv, ChgOffPrinGr, BalanceGross, and DisbursmentGross columns"
   ]
  },
  {
   "cell_type": "code",
   "execution_count": 31,
   "metadata": {},
   "outputs": [
    {
     "name": "stdout",
     "output_type": "stream",
     "text": [
      "        SBA_Appv    GrAppv  ChgOffPrinGr  BalanceGross  DisbursementGross\n",
      "0        48000.0   60000.0           0.0           0.0            60000.0\n",
      "1        32000.0   40000.0           0.0           0.0            40000.0\n",
      "2       215250.0  287000.0           0.0           0.0           287000.0\n",
      "3        28000.0   35000.0           0.0           0.0            35000.0\n",
      "4       229000.0  229000.0           0.0           0.0           229000.0\n",
      "...          ...       ...           ...           ...                ...\n",
      "899159   56000.0   70000.0           0.0           0.0            70000.0\n",
      "899160   42500.0   85000.0           0.0           0.0            85000.0\n",
      "899161  225000.0  300000.0           0.0           0.0           300000.0\n",
      "899162   60000.0   75000.0       46383.0           0.0            75000.0\n",
      "899163   24000.0   30000.0           0.0           0.0            30000.0\n",
      "\n",
      "[899164 rows x 5 columns]\n",
      "SBA_Appv             float64\n",
      "GrAppv               float64\n",
      "ChgOffPrinGr         float64\n",
      "BalanceGross         float64\n",
      "DisbursementGross    float64\n",
      "dtype: object\n"
     ]
    }
   ],
   "source": [
    "# Remove dollar signs and comas and change datatype to float64\n",
    "dataset[currency_cols] = dataset[currency_cols].applymap(lambda x: x.replace('$', '').replace(',', '')).astype('float64')\n",
    "\n",
    "print(dataset[currency_cols])\n",
    "print(dataset[currency_cols].dtypes)"
   ]
  },
  {
   "cell_type": "code",
   "execution_count": 32,
   "metadata": {},
   "outputs": [
    {
     "name": "stdout",
     "output_type": "stream",
     "text": [
      "Number of null SBA_Appv values:  0\n",
      "Number of null GrAppv values:  0\n",
      "Number of null ChgOffPrinGr values:  0\n",
      "Number of null BalanceGross values:  0\n",
      "Number of null DisbursementGross values:  0\n"
     ]
    }
   ],
   "source": [
    "# Check if any of the currency columns have any null values\n",
    "print(\"Number of null SBA_Appv values: \", dataset.SBA_Appv.isnull().sum())\n",
    "print(\"Number of null GrAppv values: \", dataset.GrAppv.isnull().sum())\n",
    "print(\"Number of null ChgOffPrinGr values: \", dataset.ChgOffPrinGr.isnull().sum())\n",
    "print(\"Number of null BalanceGross values: \", dataset.BalanceGross.isnull().sum())\n",
    "print(\"Number of null DisbursementGross values: \", dataset.DisbursementGross.isnull().sum())"
   ]
  },
  {
   "cell_type": "markdown",
   "metadata": {},
   "source": [
    "<h2>ApprovalFY</h2>\n",
    "\n",
    "The only thing we have to fix here is the bad year. We have to replace 1976A with 1976."
   ]
  },
  {
   "cell_type": "code",
   "execution_count": 33,
   "metadata": {},
   "outputs": [
    {
     "data": {
      "text/plain": [
       "699732    1976A\n",
       "704030    1976A\n",
       "705375    1976A\n",
       "710381    1976A\n",
       "713245    1976A\n",
       "748029    1976A\n",
       "751519    1976A\n",
       "769515    1976A\n",
       "775002    1976A\n",
       "775430    1976A\n",
       "775978    1976A\n",
       "776367    1976A\n",
       "780120    1976A\n",
       "781090    1976A\n",
       "784351    1976A\n",
       "788539    1976A\n",
       "788661    1976A\n",
       "793733    1976A\n",
       "Name: ApprovalFY, dtype: category\n",
       "Categories (52, object): [1962, 1965, 1966, 1967, ..., 2011, 2012, 2013, 2014]"
      ]
     },
     "execution_count": 33,
     "metadata": {},
     "output_type": "execute_result"
    }
   ],
   "source": [
    "bad_year = dataset[dataset.ApprovalFY == '1976A']\n",
    "bad_year.ApprovalFY"
   ]
  },
  {
   "cell_type": "code",
   "execution_count": 34,
   "metadata": {},
   "outputs": [
    {
     "data": {
      "text/plain": [
       "Series([], Name: ApprovalFY, dtype: category\n",
       "Categories (51, object): [1962, 1965, 1966, 1967, ..., 2011, 2012, 2013, 2014])"
      ]
     },
     "execution_count": 34,
     "metadata": {},
     "output_type": "execute_result"
    }
   ],
   "source": [
    "# Change 1976A to 1976\n",
    "dataset.loc[bad_year.index, 'ApprovalFY'] = '1976'\n",
    "dataset.ApprovalFY.cat.remove_categories('1976A', inplace=True)\n",
    "\n",
    "# Check that the values were updated, this should be an empty dataframe\n",
    "bad_year = dataset[dataset.ApprovalFY == '1976A']\n",
    "bad_year.ApprovalFY"
   ]
  },
  {
   "cell_type": "code",
   "execution_count": 35,
   "metadata": {},
   "outputs": [
    {
     "data": {
      "text/plain": [
       "dtype('int64')"
      ]
     },
     "execution_count": 35,
     "metadata": {},
     "output_type": "execute_result"
    }
   ],
   "source": [
    "# Change the type of the column from category to int64\n",
    "dataset.ApprovalFY = dataset.ApprovalFY.astype('int64')\n",
    "\n",
    "dataset.ApprovalFY.dtypes"
   ]
  },
  {
   "cell_type": "markdown",
   "metadata": {},
   "source": [
    "<h2>Fix DateTime Columns</h2>"
   ]
  },
  {
   "cell_type": "markdown",
   "metadata": {},
   "source": [
    "Fix the century for the DateTime columns."
   ]
  },
  {
   "cell_type": "code",
   "execution_count": 36,
   "metadata": {},
   "outputs": [],
   "source": [
    "# Fix dates with the wrong century\n",
    "century_days = 365.25*100\n",
    "\n",
    "for col in date_columns:\n",
    "    future_dates = dataset[col] > pd.to_datetime(20200101, format='%Y%m%d')\n",
    "    dataset.loc[future_dates, col] -= pd.Timedelta(days=century_days)"
   ]
  },
  {
   "cell_type": "markdown",
   "metadata": {},
   "source": [
    "Check which DateTime Columns have null values."
   ]
  },
  {
   "cell_type": "code",
   "execution_count": 37,
   "metadata": {},
   "outputs": [
    {
     "name": "stdout",
     "output_type": "stream",
     "text": [
      "Number of null values: \n",
      "\n",
      "  ApprovalDate:  0\n",
      "  DisbursementDate:  2368\n",
      "  ChgOffDate:  736465\n"
     ]
    }
   ],
   "source": [
    "print(\"Number of null values: \\n\")\n",
    "print(\"  ApprovalDate: \", dataset.ApprovalDate.isnull().sum())\n",
    "print(\"  DisbursementDate: \", dataset.DisbursementDate.isnull().sum())\n",
    "print(\"  ChgOffDate: \", dataset.ChgOffDate.isnull().sum())"
   ]
  },
  {
   "cell_type": "markdown",
   "metadata": {},
   "source": [
    "The null values for DisbursementDate can probably be replaced with the ApprovalDate.<br>\n",
    "The null values for ChgOffDate can probably be replaced with the DisbursementDate, that is assuming that the loan is PIF."
   ]
  },
  {
   "cell_type": "markdown",
   "metadata": {},
   "source": [
    "<h3>DisbursementDate</h3>\n",
    "Check that the DisbursementDate is after the ApprovalDate"
   ]
  },
  {
   "cell_type": "code",
   "execution_count": 38,
   "metadata": {},
   "outputs": [
    {
     "name": "stdout",
     "output_type": "stream",
     "text": [
      "       ApprovalDate DisbursementDate ChgOffDate MIS_Status\n",
      "481      1980-06-25       1980-05-12 1992-06-22     CHGOFF\n",
      "1548     1997-03-05       1997-02-28        NaT      P I F\n",
      "1655     1997-03-05       1997-02-28        NaT      P I F\n",
      "6907     1997-03-19       1997-02-14        NaT      P I F\n",
      "13804    1997-04-04       1996-07-04        NaT      P I F\n",
      "...             ...              ...        ...        ...\n",
      "896648   1997-02-03       1996-04-07 2001-05-11     CHGOFF\n",
      "896854   1997-02-05       1996-10-29        NaT      P I F\n",
      "897223   1997-02-10       1996-04-13        NaT      P I F\n",
      "898373   1997-02-21       1987-04-01        NaT      P I F\n",
      "899107   2001-03-26       1998-01-31        NaT      P I F\n",
      "\n",
      "[810 rows x 4 columns]\n"
     ]
    }
   ],
   "source": [
    "# Check for any DisbursementDate values that are before ApprovalDate\n",
    "bad_disburse_date = dataset[dataset['DisbursementDate'] < dataset['ApprovalDate']]\n",
    "print(bad_disburse_date[['ApprovalDate', 'DisbursementDate', 'ChgOffDate', 'MIS_Status']])"
   ]
  },
  {
   "cell_type": "markdown",
   "metadata": {},
   "source": [
    "There are 810 rows where the DisbursementDate is before the ApprovalDate. This doesn't seem to make sense since you would expect that the loan would have to be approved before disbursing funds. For our analysis, the DisbursementDate will only matter if the loan was defaulted since we are only using it to calculate the TimeToDefault value. Setting the DisbursementDate for the 810 rows to the ApprovalDate seems to be an acceptable estimate.<br>\n",
    "\n",
    "<b>Decision: Replace all bad DisbursementDate values with the ApprovalDate</b>"
   ]
  },
  {
   "cell_type": "code",
   "execution_count": 39,
   "metadata": {},
   "outputs": [
    {
     "name": "stdout",
     "output_type": "stream",
     "text": [
      "Empty DataFrame\n",
      "Columns: [ApprovalDate, DisbursementDate, ChgOffDate, MIS_Status]\n",
      "Index: []\n"
     ]
    }
   ],
   "source": [
    "# Replace bad DisbursementDate values with the ApprovalDate\n",
    "dataset.loc[bad_disburse_date.index, 'DisbursementDate'] = dataset.loc[bad_disburse_date.index, 'ApprovalDate']\n",
    "    \n",
    "# Check the DisbursementDate again to verify the change\n",
    "disburse_date = dataset[dataset['DisbursementDate'] < dataset['ApprovalDate']]\n",
    "# This result should be an empty dataframe\n",
    "print(disburse_date[['ApprovalDate', 'DisbursementDate', 'ChgOffDate', 'MIS_Status']])"
   ]
  },
  {
   "cell_type": "markdown",
   "metadata": {},
   "source": [
    "<b>Decision: Assuming the loan has to be approved before disbursing the funds, replace all null DisbursementDate values with the ApprovalDate.</b>"
   ]
  },
  {
   "cell_type": "code",
   "execution_count": 40,
   "metadata": {},
   "outputs": [
    {
     "name": "stdout",
     "output_type": "stream",
     "text": [
      "       ApprovalDate DisbursementDate ChgOffDate MIS_Status\n",
      "452      1998-11-27              NaT        NaT      P I F\n",
      "611      1980-07-07              NaT 1990-05-22        NaN\n",
      "740      1980-07-03              NaT 1990-02-08        NaN\n",
      "1183     2003-10-09              NaT        NaT      P I F\n",
      "1382     2003-12-12              NaT        NaT      P I F\n",
      "...             ...              ...        ...        ...\n",
      "896387   1997-01-30              NaT        NaT      P I F\n",
      "897215   1997-02-10              NaT        NaT      P I F\n",
      "897268   1997-02-10              NaT        NaT      P I F\n",
      "897488   1997-02-12              NaT        NaT      P I F\n",
      "897494   1997-02-12              NaT        NaT      P I F\n",
      "\n",
      "[2368 rows x 4 columns]\n",
      "\n",
      "Number of DisbursementDate null values:  0\n"
     ]
    }
   ],
   "source": [
    "# Check for null DisbursementDate values\n",
    "null_disburse_date = dataset[dataset.DisbursementDate.isnull()]\n",
    "print(null_disburse_date[['ApprovalDate', 'DisbursementDate', 'ChgOffDate', 'MIS_Status']])\n",
    "\n",
    "# Replace all null DisbursementDate values with the ApprovalDate\n",
    "dataset.loc[null_disburse_date.index, 'DisbursementDate'] = dataset.loc[null_disburse_date.index, 'ApprovalDate']\n",
    "\n",
    "print(\"\\nNumber of DisbursementDate null values: \", dataset.DisbursementDate.isnull().sum())"
   ]
  },
  {
   "cell_type": "markdown",
   "metadata": {},
   "source": [
    "<h3>ChgOffDate</h3>\n",
    "\n",
    "<ol>\n",
    "    <li>Make sure the ChgOffDate is after the DisbursementDate</li>\n",
    "    <li>For null ChgOffDate values:\n",
    "        <ul>\n",
    "            <li>The MIS_Status is PIF and the ChgOffPrinGr is zero, replace the ChgOffDate with the DisbursementDate</li>\n",
    "            <li>The MIS_Status is PIF and the ChgOffPrinGr greater than zero, remove row</li>\n",
    "            <li>The MIS_Status is CHGOFF and the ChgOffPrinGr is zero, remove row</li>\n",
    "            <li>The MIS_Status is CHGOFF and the ChgOffPrinGr greather than zero, these rows will need to be imputed with the mean TimeToDefault when that column is created</li>\n",
    "        </ul>\n",
    "    </li>\n",
    "    <li>Make sure the ChgOffDate is equal to the DisbursementDate when MIS_Status is 'P I F' and ChgOffPrinGr is zero</li>\n",
    "    <li>Make sure the ChgOffDate is not equal to the DisbursementDate when the MIS_Status is 'CHGOFF' and the ChgOffPrinGr is greater than zero</li>\n",
    "</ol>"
   ]
  },
  {
   "cell_type": "markdown",
   "metadata": {},
   "source": [
    "<b>ChgOffDate - Step 1: Check that the ChgOffDate is after the DisbursementDate</b>"
   ]
  },
  {
   "cell_type": "code",
   "execution_count": 41,
   "metadata": {},
   "outputs": [
    {
     "name": "stdout",
     "output_type": "stream",
     "text": [
      "       ApprovalDate DisbursementDate ChgOffDate  Term  ChgOffPrinGr MIS_Status\n",
      "160351   1998-06-26       1998-09-30 1998-06-26   120           0.0     CHGOFF\n",
      "234738   1986-06-25       2010-07-28 1992-09-23    19       28650.0     CHGOFF\n",
      "238712   1986-07-31       2012-06-07 1991-09-16    55       56524.0     CHGOFF\n",
      "244776   1986-09-29       2010-11-15 1991-12-19    46       55585.0     CHGOFF\n",
      "598791   1993-09-14       1994-01-31 1926-10-22    66      236876.0     CHGOFF\n",
      "857042   1996-04-18       1996-07-31 1996-04-18    60           0.0     CHGOFF\n",
      "877692   1996-09-03       2000-04-30 2000-03-01    84       97567.0     CHGOFF\n"
     ]
    }
   ],
   "source": [
    "# Check for rows with a ChgOffDate that is before the DisbursementDate\n",
    "bad_default_date = dataset[dataset['ChgOffDate'] < dataset['DisbursementDate']]\n",
    "print(bad_default_date[['ApprovalDate', 'DisbursementDate', 'ChgOffDate', 'Term', 'ChgOffPrinGr', 'MIS_Status']])"
   ]
  },
  {
   "cell_type": "markdown",
   "metadata": {},
   "source": [
    "The following two rows have a MIS_Status and ChgOffPrinGr that contradict each other:\n",
    "<pre>\n",
    "       ApprovalDate DisbursementDate ChgOffDate  Term  ChgOffPrinGr MIS_Status\n",
    "160351   1998-06-26       1998-09-30 1998-06-26   120           0.0     CHGOFF\n",
    "857042   1996-04-18       1996-07-31 1996-04-18    60           0.0     CHGOFF\n",
    "</pre>\n",
    "\n",
    "<b>Decision: Remove the above 2 rows since the ChgOffDate is incorrect and the ChgOffPrinGr and MIS_Status contradict each other.</b><br>\n",
    "\n",
    "The ChgOffDate for the following doesn't make sense when considering the ApprovalDate, DisbursementDate, and Term length:\n",
    "<pre>\n",
    "       ApprovalDate DisbursementDate ChgOffDate  Term  ChgOffPrinGr MIS_Status\n",
    "234738   1986-06-25       2010-07-28 1992-09-23    19       28650.0     CHGOFF\n",
    "238712   1986-07-31       2012-06-07 1991-09-16    55       56524.0     CHGOFF\n",
    "244776   1986-09-29       2010-11-15 1991-12-19    46       55585.0     CHGOFF\n",
    "598791   1993-09-14       1994-01-31 1926-10-22    66      236876.0     CHGOFF\n",
    "877692   1996-09-03       2000-04-30 2000-03-01    84       97567.0     CHGOFF\n",
    "</pre>\n",
    "\n",
    "<b>Decision: Remove the above 5 rows since the ChgOffDate doesn't make sense considering the ApprovalDate, DisbursementDate, and Term length</b>"
   ]
  },
  {
   "cell_type": "code",
   "execution_count": 42,
   "metadata": {},
   "outputs": [
    {
     "name": "stdout",
     "output_type": "stream",
     "text": [
      "Empty DataFrame\n",
      "Columns: [ApprovalDate, DisbursementDate, ChgOffDate, Term, ChgOffPrinGr, MIS_Status]\n",
      "Index: []\n"
     ]
    }
   ],
   "source": [
    "# Remove the above 7 rows that have a bad ChgOffDate\n",
    "dataset.drop(bad_default_date.index, inplace=True)\n",
    "\n",
    "# Check that the rows were removed\n",
    "bad_default_date = dataset[dataset['ChgOffDate'] < dataset['DisbursementDate']]\n",
    "# This should be an empty dataframe\n",
    "print(bad_default_date[['ApprovalDate', 'DisbursementDate', 'ChgOffDate', 'Term', 'ChgOffPrinGr', 'MIS_Status']])"
   ]
  },
  {
   "cell_type": "markdown",
   "metadata": {},
   "source": [
    "<b>ChgOffDate - Step 2-1: Check for rows with a null ChgOffDate, MIS_Status of 'P I F', and a ChgOffPrinGr equal to zero</b>"
   ]
  },
  {
   "cell_type": "code",
   "execution_count": 43,
   "metadata": {},
   "outputs": [
    {
     "name": "stdout",
     "output_type": "stream",
     "text": [
      "       ApprovalDate DisbursementDate ChgOffDate  Term  ChgOffPrinGr MIS_Status\n",
      "0        1997-02-28       1999-02-28        NaT    84           0.0      P I F\n",
      "1        1997-02-28       1997-05-31        NaT    60           0.0      P I F\n",
      "2        1997-02-28       1997-12-31        NaT   180           0.0      P I F\n",
      "3        1997-02-28       1997-06-30        NaT    60           0.0      P I F\n",
      "4        1997-02-28       1997-05-14        NaT   240           0.0      P I F\n",
      "...             ...              ...        ...   ...           ...        ...\n",
      "899158   1997-02-27       1997-06-30        NaT    84           0.0      P I F\n",
      "899159   1997-02-27       1997-09-30        NaT    60           0.0      P I F\n",
      "899160   1997-02-27       1997-10-31        NaT    60           0.0      P I F\n",
      "899161   1997-02-27       1997-09-30        NaT   108           0.0      P I F\n",
      "899163   1997-02-27       1997-05-31        NaT    48           0.0      P I F\n",
      "\n",
      "[734682 rows x 6 columns]\n"
     ]
    }
   ],
   "source": [
    "# Get the rows with a null ChgOffDate, MIS_Status equal to PIF, and ChgOffPrinGr equal to zero\n",
    "null_chargeoff_date = dataset[dataset.ChgOffDate.isnull() & \n",
    "                              (dataset.MIS_Status == \"P I F\") & \n",
    "                              (dataset.ChgOffPrinGr == 0)]\n",
    "\n",
    "print(null_chargeoff_date[['ApprovalDate', 'DisbursementDate', 'ChgOffDate', 'Term', 'ChgOffPrinGr', 'MIS_Status']])"
   ]
  },
  {
   "cell_type": "markdown",
   "metadata": {},
   "source": [
    "There are 734682 rows with a null ChgOffDate, MIS_Status of 'P I F', and a ChgOffPrinGr equal to zero. These null ChngOffDate values can be replaced with the DisbursementDate. This will give us a zero TimeToDefault when we create the new column.\n",
    "\n",
    "<b>Decision: Replace the null ChgOffDate for the above 734682 rows with the DisbursementDate</b>"
   ]
  },
  {
   "cell_type": "code",
   "execution_count": 44,
   "metadata": {},
   "outputs": [
    {
     "name": "stdout",
     "output_type": "stream",
     "text": [
      "Empty DataFrame\n",
      "Columns: [ApprovalDate, DisbursementDate, ChgOffDate, Term, ChgOffPrinGr, MIS_Status]\n",
      "Index: []\n"
     ]
    }
   ],
   "source": [
    "# Replace null ChgOffDate values with the DisbursementDate\n",
    "dataset.loc[null_chargeoff_date.index, 'ChgOffDate'] = dataset.loc[null_chargeoff_date.index, 'DisbursementDate']\n",
    "\n",
    "# Check that the values were updated\n",
    "null_chargeoff_date = dataset[dataset.ChgOffDate.isnull() & \n",
    "                              (dataset.MIS_Status == \"P I F\") & \n",
    "                              (dataset.ChgOffPrinGr == 0)]\n",
    "# This should be an empty dataframe\n",
    "print(null_chargeoff_date[['ApprovalDate', 'DisbursementDate', 'ChgOffDate', 'Term', 'ChgOffPrinGr', 'MIS_Status']])"
   ]
  },
  {
   "cell_type": "markdown",
   "metadata": {},
   "source": [
    "<b>ChgOffDate - Step 2-2: Check for rows with a null ChgOffDate, MIS_Status of 'P I F', and a ChgOffPrinGr greater than zero</b>"
   ]
  },
  {
   "cell_type": "code",
   "execution_count": 45,
   "metadata": {},
   "outputs": [
    {
     "name": "stdout",
     "output_type": "stream",
     "text": [
      "Empty DataFrame\n",
      "Columns: [ApprovalDate, DisbursementDate, ChgOffDate, Term, ChgOffPrinGr, MIS_Status]\n",
      "Index: []\n"
     ]
    }
   ],
   "source": [
    "# Get the rows with a null ChgOffDate, MIS_Status equal to 'P I F', and ChgOffPrinGr greater than zero\n",
    "null_chargeoff_date = dataset[dataset.ChgOffDate.isnull() & \n",
    "                              (dataset.MIS_Status == \"P I F\") & \n",
    "                              (dataset.ChgOffPrinGr > 0)]\n",
    "\n",
    "print(null_chargeoff_date[['ApprovalDate', 'DisbursementDate', 'ChgOffDate', 'Term', 'ChgOffPrinGr', 'MIS_Status']])"
   ]
  },
  {
   "cell_type": "markdown",
   "metadata": {},
   "source": [
    "There are zero rows with a null ChgOffDate, MIS_Status of 'P I F', and a ChgOffPrinGr greater than zero. This is good.\n",
    "\n",
    "<b>ChgOffDate - Step 2-3: Check for rows with a null ChgOffDate, MIS_Status of 'CHGOFF', and a ChgOffPrinGr equal to zero</b>"
   ]
  },
  {
   "cell_type": "code",
   "execution_count": 46,
   "metadata": {},
   "outputs": [
    {
     "name": "stdout",
     "output_type": "stream",
     "text": [
      "       ApprovalDate DisbursementDate ChgOffDate  Term  ChgOffPrinGr MIS_Status\n",
      "3589     1997-03-10       1997-04-30        NaT   294           0.0     CHGOFF\n",
      "73532    1997-09-16       1997-11-30        NaT    99           0.0     CHGOFF\n",
      "78848    1997-09-30       1997-11-30        NaT   227           0.0     CHGOFF\n",
      "127781   1998-03-25       1998-03-31        NaT   105           0.0     CHGOFF\n",
      "142397   1998-05-07       1998-06-30        NaT    61           0.0     CHGOFF\n",
      "163810   1998-07-08       1999-04-30        NaT   172           0.0     CHGOFF\n",
      "175598   1998-08-12       1998-12-31        NaT   150           0.0     CHGOFF\n",
      "341030   1989-02-02       1989-04-30        NaT   168           0.0     CHGOFF\n",
      "345586   1989-03-24       1989-10-31        NaT   211           0.0     CHGOFF\n",
      "369099   1989-11-14       1990-01-31        NaT    64           0.0     CHGOFF\n",
      "373554   1989-11-27       1990-01-31        NaT   267           0.0     CHGOFF\n",
      "409550   1990-03-13       1990-04-30        NaT    72           0.0     CHGOFF\n",
      "421008   1990-04-30       1990-05-31        NaT   141           0.0     CHGOFF\n",
      "425146   1990-05-25       1990-10-31        NaT   102           0.0     CHGOFF\n",
      "426099   1990-06-06       1990-10-31        NaT   159           0.0     CHGOFF\n",
      "427636   1990-06-15       1990-10-31        NaT    61           0.0     CHGOFF\n",
      "432632   1990-07-26       1990-10-31        NaT   106           0.0     CHGOFF\n",
      "434748   1990-08-16       1990-10-31        NaT   192           0.0     CHGOFF\n",
      "440407   1990-10-11       1991-01-31        NaT     5           0.0     CHGOFF\n",
      "441193   1990-10-22       1991-01-31        NaT   106           0.0     CHGOFF\n",
      "443128   1990-11-15       1991-01-31        NaT   176           0.0     CHGOFF\n",
      "446724   1991-01-02       1991-04-30        NaT    62           0.0     CHGOFF\n",
      "449187   1991-01-29       1991-04-30        NaT   239           0.0     CHGOFF\n",
      "449402   1991-01-30       1991-04-30        NaT   105           0.0     CHGOFF\n",
      "455839   1991-03-27       1991-04-30        NaT   236           0.0     CHGOFF\n",
      "457366   1991-04-10       1991-07-31        NaT   237           0.0     CHGOFF\n",
      "458037   1991-04-17       1991-07-31        NaT   235           0.0     CHGOFF\n",
      "464730   1991-06-14       1991-07-31        NaT    95           0.0     CHGOFF\n",
      "467985   1991-07-12       1991-10-31        NaT   184           0.0     CHGOFF\n",
      "480395   1991-10-31       1992-01-31        NaT   277           0.0     CHGOFF\n",
      "536017   1992-10-28       1993-01-31        NaT   239           0.0     CHGOFF\n",
      "759967   1995-01-05       1995-04-30        NaT    29           0.0     CHGOFF\n",
      "760192   1995-01-06       1995-01-31        NaT    14           0.0     CHGOFF\n",
      "774821   1995-03-21       1996-04-30        NaT    96           0.0     CHGOFF\n",
      "777503   1995-04-03       1995-07-31        NaT    29           0.0     CHGOFF\n",
      "781152   1995-04-19       1995-07-31        NaT    50           0.0     CHGOFF\n",
      "785076   1995-05-10       1995-07-31        NaT    82           0.0     CHGOFF\n",
      "796607   1995-07-14       1995-07-31        NaT    23           0.0     CHGOFF\n",
      "824844   1995-12-01       1996-01-31        NaT    98           0.0     CHGOFF\n",
      "831748   1996-01-12       1996-04-30        NaT   277           0.0     CHGOFF\n",
      "840421   1996-02-15       1996-04-30        NaT    61           0.0     CHGOFF\n",
      "851921   1996-03-27       1996-04-30        NaT   110           0.0     CHGOFF\n",
      "858513   1996-04-25       1996-07-31        NaT     2           0.0     CHGOFF\n",
      "860849   1996-05-08       1996-07-31        NaT     0           0.0     CHGOFF\n",
      "869652   1996-07-05       1996-07-31        NaT     9           0.0     CHGOFF\n",
      "871520   1996-07-19       1996-10-31        NaT    71           0.0     CHGOFF\n",
      "882133   1996-09-27       1996-11-30        NaT    71           0.0     CHGOFF\n",
      "Number of rows:  47\n"
     ]
    }
   ],
   "source": [
    "# Get the rows with a null ChgOffDate, MIS_Status equal to 'CHFOFF', and ChgOffPrinGr equal to zero\n",
    "null_chargeoff_date = dataset[dataset.ChgOffDate.isnull() & \n",
    "                              (dataset.MIS_Status == \"CHGOFF\") & \n",
    "                              (dataset.ChgOffPrinGr == 0)]\n",
    "\n",
    "print(null_chargeoff_date[['ApprovalDate', 'DisbursementDate', 'ChgOffDate', 'Term', 'ChgOffPrinGr', 'MIS_Status']])\n",
    "print(\"Number of rows: \", null_chargeoff_date.shape[0])"
   ]
  },
  {
   "cell_type": "markdown",
   "metadata": {},
   "source": [
    "There are 47 rows with a null ChgOffDate, MIS_Status of 'CHGOFF', and a ChgOffPrinGr equal to zero. Since the ChgOffDate is null and the ChgOffPrinGr is zero, we can assume that the MIS_Status is incorrect. However, given that it's only 47 rows, it may be better to just remove the rows rather than introduce potential bias/error into the model.\n",
    "\n",
    "<b>Decision: Remove the above 47 rows since we can't say with any certainty that either the ChgOffDate is incorrect or that the MIS_Status is incorrect</b>"
   ]
  },
  {
   "cell_type": "code",
   "execution_count": 47,
   "metadata": {},
   "outputs": [
    {
     "name": "stdout",
     "output_type": "stream",
     "text": [
      "Empty DataFrame\n",
      "Columns: [ApprovalDate, DisbursementDate, ChgOffDate, Term, ChgOffPrinGr, MIS_Status]\n",
      "Index: []\n"
     ]
    }
   ],
   "source": [
    "# Remove the above 47 rows\n",
    "dataset.drop(null_chargeoff_date.index, inplace=True)\n",
    "\n",
    "# Check that the rows were removed\n",
    "null_chargeoff_date = dataset[dataset.ChgOffDate.isnull() & \n",
    "                              (dataset.MIS_Status == \"CHGOFF\") & \n",
    "                              (dataset.ChgOffPrinGr == 0)]\n",
    "# This should be an empty dataframe\n",
    "print(null_chargeoff_date[['ApprovalDate', 'DisbursementDate', 'ChgOffDate', 'Term', 'ChgOffPrinGr', 'MIS_Status']])"
   ]
  },
  {
   "cell_type": "markdown",
   "metadata": {},
   "source": [
    "<b>ChgOffDate - Step 2-4: Check for rows with a null ChgOffDate, MIS_Status of 'CHGOFF', and a ChgOffPrinGr greater than zero</b>"
   ]
  },
  {
   "cell_type": "code",
   "execution_count": 48,
   "metadata": {},
   "outputs": [
    {
     "name": "stdout",
     "output_type": "stream",
     "text": [
      "Empty DataFrame\n",
      "Columns: [ApprovalDate, DisbursementDate, ChgOffDate, Term, ChgOffPrinGr, MIS_Status]\n",
      "Index: []\n"
     ]
    }
   ],
   "source": [
    "# Get the rows with a null ChgOffDate, MIS_Status equal to 'CHFOFF', and ChgOffPrinGr greater than zero\n",
    "null_chargeoff_date = dataset[dataset.ChgOffDate.isnull() & \n",
    "                              (dataset.MIS_Status == \"CHGOFF\") & \n",
    "                              (dataset.ChgOffPrinGr > 0)]\n",
    "\n",
    "print(null_chargeoff_date[['ApprovalDate', 'DisbursementDate', 'ChgOffDate', 'Term', 'ChgOffPrinGr', 'MIS_Status']])"
   ]
  },
  {
   "cell_type": "markdown",
   "metadata": {},
   "source": [
    "There are zero rows with a null ChgOffDate, MIS_Status equal to 'CHFOFF', and ChgOffPrinGr greater than zero. This is good.\n",
    "\n",
    "\n",
    "Next, check how many rows with a null ChgOffDate are left."
   ]
  },
  {
   "cell_type": "code",
   "execution_count": 49,
   "metadata": {},
   "outputs": [
    {
     "name": "stdout",
     "output_type": "stream",
     "text": [
      "       ApprovalDate DisbursementDate ChgOffDate  Term  ChgOffPrinGr MIS_Status\n",
      "343      1998-05-18       1998-06-30        NaT    60           0.0        NaN\n",
      "738      1997-03-03       2000-04-30        NaT    60           0.0        NaN\n",
      "833      2003-03-03       2003-03-31        NaT    84           0.0        NaN\n",
      "897      2003-04-09       2003-04-30        NaT    84           0.0        NaN\n",
      "1051     2003-07-23       2003-08-31        NaT    38           0.0        NaN\n",
      "...             ...              ...        ...   ...           ...        ...\n",
      "892340   1996-12-19       1996-12-19        NaT    84           0.0        NaN\n",
      "893791   1997-01-06       1998-04-30        NaT    84           0.0        NaN\n",
      "894290   1997-01-10       1997-07-31        NaT    84           0.0        NaN\n",
      "896318   1997-01-30       1997-02-13        NaT    36           0.0        NaN\n",
      "898182   1997-02-19       1999-01-29        NaT    84           0.0        NaN\n",
      "\n",
      "[1736 rows x 6 columns]\n",
      "\n",
      "P I F     0\n",
      "CHGOFF    0\n",
      "Name: MIS_Status, dtype: int64\n",
      "\n",
      "0.0    1736\n",
      "Name: ChgOffPrinGr, dtype: int64\n"
     ]
    }
   ],
   "source": [
    "null_chargeoff_date = dataset[dataset.ChgOffDate.isnull()]\n",
    "print(null_chargeoff_date[['ApprovalDate', 'DisbursementDate', 'ChgOffDate', 'Term', 'ChgOffPrinGr', 'MIS_Status']])\n",
    "print()\n",
    "print(null_chargeoff_date['MIS_Status'].value_counts())\n",
    "print()\n",
    "print(null_chargeoff_date['ChgOffPrinGr'].value_counts())"
   ]
  },
  {
   "cell_type": "markdown",
   "metadata": {},
   "source": [
    "There are 1736 rows with a null ChgOffDate remaining. All of those rows have an MIS_Status of null.\n",
    "\n",
    "Since the ChgOffDate is null and the ChgOffPrinGr is zero, we could assume the MIS_Status is 'P I F'. However, as we decided above, it may be better to just remove the rows rather than introduce potential bias/error into the model.\n",
    "\n",
    "<b>Decision: Remove the 1736 rows from above</b>"
   ]
  },
  {
   "cell_type": "code",
   "execution_count": 50,
   "metadata": {},
   "outputs": [
    {
     "name": "stdout",
     "output_type": "stream",
     "text": [
      "Number of ChgOffDate null values:  0\n"
     ]
    }
   ],
   "source": [
    "# Remove the 1736 rows that have a null ChgOffDate\n",
    "dataset.drop(null_chargeoff_date.index, inplace=True)\n",
    "\n",
    "# Check that there are no more null ChgOffDate values\n",
    "print(\"Number of ChgOffDate null values: \", dataset.ChgOffDate.isnull().sum())"
   ]
  },
  {
   "cell_type": "markdown",
   "metadata": {},
   "source": [
    "There are no more rows with a null ChgOffDate."
   ]
  },
  {
   "cell_type": "markdown",
   "metadata": {},
   "source": [
    "<b>ChgOffDate - Step 3: Make sure the ChgOffDate is equal to the DisbursementDate when MIS_Status is 'P I F' and ChgOffPrinGr is zero</b>"
   ]
  },
  {
   "cell_type": "code",
   "execution_count": 51,
   "metadata": {},
   "outputs": [
    {
     "name": "stdout",
     "output_type": "stream",
     "text": [
      "       ApprovalDate DisbursementDate ChgOffDate  Term  ChgOffPrinGr MIS_Status\n",
      "6516     1980-09-09       1980-09-23 1991-07-16    65           0.0      P I F\n",
      "8715     1980-09-30       1980-10-24 1994-09-22   144           0.0      P I F\n",
      "9133     1997-03-24       1997-08-31 2001-08-15   108           0.0      P I F\n",
      "17121    1980-12-11       1981-05-22 1996-12-09    20           0.0      P I F\n",
      "17292    1980-12-16       1981-01-09 1992-09-03   132           0.0      P I F\n",
      "34166    1981-07-08       1981-10-05 1990-01-19    60           0.0      P I F\n",
      "39221    1981-10-06       1981-11-19 1991-08-26    60           0.0      P I F\n",
      "75965    1997-09-23       1997-11-30 2008-05-02    81           0.0      P I F\n",
      "102407   1997-12-22       1998-04-30 2002-03-21    60           0.0      P I F\n",
      "162090   1985-02-20       1985-03-01 1994-11-30    28           0.0      P I F\n",
      "176335   1985-06-24       1985-09-03 2001-09-25   239           0.0      P I F\n",
      "181048   1985-08-02       1985-08-14 1993-10-18    42           0.0      P I F\n",
      "186070   1979-08-07       1979-08-23 1990-03-27   180           0.0      P I F\n",
      "212660   1986-02-18       1986-03-11 1994-04-18    21           0.0      P I F\n",
      "213067   1986-02-21       1986-03-12 1995-05-15    55           0.0      P I F\n",
      "242845   1972-09-21       1972-11-08 1989-07-12   120           0.0      P I F\n",
      "254224   1999-02-17       1999-04-30 2001-05-31   157           0.0      P I F\n",
      "261277   1987-01-16       1987-03-20 1995-04-25    29           0.0      P I F\n",
      "299877   1987-12-08       1988-02-10 1994-06-14    50           0.0      P I F\n",
      "306615   1999-08-11       2000-07-31 2002-02-14    70           0.0      P I F\n",
      "311232   1979-09-24       1979-12-28 1995-04-06    36           0.0      P I F\n",
      "326037   1988-06-24       1988-10-31 1997-06-02    19           0.0      P I F\n",
      "338046   1989-01-03       1989-04-30 1997-03-04     9           0.0      P I F\n",
      "347590   1989-04-12       1990-04-30 1998-05-01   355           0.0      P I F\n",
      "353532   1989-06-16       1989-10-31 1992-08-18   153           0.0      P I F\n",
      "432121   1990-07-23       1990-10-31 1995-08-04    91           0.0      P I F\n",
      "440628   1990-10-15       1991-01-31 1997-11-25    16           0.0      P I F\n",
      "441070   1980-08-05       1980-08-29 1989-07-11     2           0.0      P I F\n",
      "448372   1991-01-22       1991-04-30 1996-08-26   110           0.0      P I F\n",
      "466385   1991-06-28       1991-07-31 1992-09-08   113           0.0      P I F\n",
      "543682   1992-11-19       1993-07-31 2000-05-26   183           0.0      P I F\n",
      "559265   1993-02-01       1993-04-30 2001-02-13    87           0.0      P I F\n",
      "599519   1993-09-17       1993-10-31 2001-01-04   157           0.0      P I F\n",
      "672188   2003-10-31       2003-11-30 2006-05-09    65           0.0      P I F\n",
      "720743   1979-07-24       1979-08-15 1990-05-14    84           0.0      P I F\n",
      "726149   1969-04-28       1969-05-22 1995-06-21   246           0.0      P I F\n",
      "737938   1977-04-27       1977-07-27 1997-07-15   252           0.0      P I F\n",
      "770568   1995-02-28       1995-04-30 2000-04-13    95           0.0      P I F\n",
      "771037   1978-05-30       1978-08-22 1999-09-28    84           0.0      P I F\n",
      "801709   1995-08-11       1997-05-31 2003-01-14   164           0.0      P I F\n",
      "802490   1995-08-16       1995-10-31 2002-09-06   156           0.0      P I F\n",
      "815141   1977-12-30       1978-05-03 1990-07-19   144           0.0      P I F\n",
      "876367   1996-08-23       1997-05-31 2002-07-24    94           0.0      P I F\n",
      "Number of rows:  43\n"
     ]
    }
   ],
   "source": [
    "# Get rows where the MIS_Status is PIF, ChgOffPrinGr is zero, and ChgOffDate  is not equal to DisbursementDate\n",
    "bad_chargeoff_date = dataset[(dataset.ChgOffDate != dataset.DisbursementDate) & \n",
    "                             (dataset.MIS_Status == \"P I F\") & \n",
    "                             (dataset.ChgOffPrinGr == 0)]\n",
    "\n",
    "print(bad_chargeoff_date[['ApprovalDate', 'DisbursementDate', 'ChgOffDate', 'Term', 'ChgOffPrinGr', 'MIS_Status']])\n",
    "print(\"Number of rows: \", bad_chargeoff_date.shape[0])"
   ]
  },
  {
   "cell_type": "markdown",
   "metadata": {},
   "source": [
    "There are 43 rows with a non-null ChgOffDate, MIS_Status equal to PIF, ChgOffPrinGr equal to zero, and ChgOffDate not equal to DisbursementDate.<br>\n",
    "\n",
    "<b>Decision: Replace the ChgOffDate with the DisbursementDate for the above 43 rows. This should be acceptable because the MIS_Status is PIF and the ChgOffPrinGr is also zero.</b>"
   ]
  },
  {
   "cell_type": "code",
   "execution_count": 52,
   "metadata": {},
   "outputs": [
    {
     "name": "stdout",
     "output_type": "stream",
     "text": [
      "Empty DataFrame\n",
      "Columns: [ApprovalDate, DisbursementDate, ChgOffDate, Term, ChgOffPrinGr, MIS_Status]\n",
      "Index: []\n"
     ]
    }
   ],
   "source": [
    "# Replace null ChgOffDate values with the DisbursementDate\n",
    "dataset.loc[bad_chargeoff_date.index, 'ChgOffDate'] = dataset.loc[bad_chargeoff_date.index, 'DisbursementDate']\n",
    "\n",
    "# Check that the values were updated\n",
    "bad_chargeoff_date = dataset[dataset.ChgOffDate.notnull() & \n",
    "                              (dataset.MIS_Status == \"P I F\") & \n",
    "                              (dataset.ChgOffPrinGr == 0) & \n",
    "                              (dataset.ChgOffDate != dataset.DisbursementDate)]\n",
    "# This should be an empty dataframe\n",
    "print(bad_chargeoff_date[['ApprovalDate', 'DisbursementDate', 'ChgOffDate', 'Term', 'ChgOffPrinGr', 'MIS_Status']])"
   ]
  },
  {
   "cell_type": "markdown",
   "metadata": {},
   "source": [
    "<b>ChgOffDate - Step 4: Make sure the ChgOffDate is not equal to the DisbursementDate when MIS_Status is 'CHGOFF' and ChgOffPrinGr greater than zero</b>"
   ]
  },
  {
   "cell_type": "code",
   "execution_count": 53,
   "metadata": {},
   "outputs": [
    {
     "name": "stdout",
     "output_type": "stream",
     "text": [
      "Empty DataFrame\n",
      "Columns: [ApprovalDate, DisbursementDate, ChgOffDate, Term, ChgOffPrinGr, MIS_Status]\n",
      "Index: []\n",
      "Number of rows:  0\n"
     ]
    }
   ],
   "source": [
    "# Get rows where the MIS_Status is CHGOFF, ChgOffPrinGr is greater than zero, and ChgOffDate is equal to DisbursementDate\n",
    "bad_chargeoff_date = dataset[(dataset.ChgOffDate == dataset.DisbursementDate) & \n",
    "                             (dataset.MIS_Status == \"CHGOFF\") & \n",
    "                             (dataset.ChgOffPrinGr > 0)]\n",
    "\n",
    "print(bad_chargeoff_date[['ApprovalDate', 'DisbursementDate', 'ChgOffDate', 'Term', 'ChgOffPrinGr', 'MIS_Status']])\n",
    "print(\"Number of rows: \", bad_chargeoff_date.shape[0])"
   ]
  },
  {
   "cell_type": "markdown",
   "metadata": {},
   "source": [
    "Verify there are no more null date values."
   ]
  },
  {
   "cell_type": "code",
   "execution_count": 54,
   "metadata": {},
   "outputs": [
    {
     "name": "stdout",
     "output_type": "stream",
     "text": [
      "Number of null values: \n",
      "\n",
      "  ApprovalDate:  0\n",
      "  DisbursementDate:  0\n",
      "  ChgOffDate:  0\n"
     ]
    }
   ],
   "source": [
    "print(\"Number of null values: \\n\")\n",
    "print(\"  ApprovalDate: \", dataset.ApprovalDate.isnull().sum())\n",
    "print(\"  DisbursementDate: \", dataset.DisbursementDate.isnull().sum())\n",
    "print(\"  ChgOffDate: \", dataset.ChgOffDate.isnull().sum())"
   ]
  },
  {
   "cell_type": "markdown",
   "metadata": {},
   "source": [
    "<h2>MIS_Status</h2>\n",
    "\n",
    "Validate MIS_Status:\n",
    "\n",
    "<ol>\n",
    "    <li>Replace null MIS_Status values with 'PIF' if:\n",
    "        <ul>\n",
    "            <li>ChgOffPrinGr equals zero and ChgOffDate equals DisbursementDate</li>\n",
    "        </ul>\n",
    "    </li>\n",
    "    <li>Replace null MIS_Status values with 'CHGOFF' if:\n",
    "        <ul>\n",
    "            <li>ChgOffPrinGr is greater than zero and ChgOffDate is greater than the DisbursementDate</li>\n",
    "        </ul>\n",
    "    </li>\n",
    "    <li>Check that all MIS_Status of 'PIF' has a ChgOffPrinGr equal to zero and ChgOffDate equal to the DisbursementDate</li>\n",
    "    <li>Check that all MIS_Status of 'CHGOFF' has ChgOffPrinGr greater than zero and ChgOffDate greater than the DisbursementDate</li>\n",
    "</ol>"
   ]
  },
  {
   "cell_type": "markdown",
   "metadata": {},
   "source": [
    "<b>MIS_Status - Step 1: Replace null MIS_Status values with 'PIF' if ChgOffPrinGr equals zero and ChgOffDate equals DisbursementDate</b>"
   ]
  },
  {
   "cell_type": "code",
   "execution_count": 55,
   "metadata": {},
   "outputs": [
    {
     "name": "stdout",
     "output_type": "stream",
     "text": [
      "Empty DataFrame\n",
      "Columns: [DisbursementDate, ChgOffDate, ChgOffPrinGr, MIS_Status]\n",
      "Index: []\n"
     ]
    }
   ],
   "source": [
    "# Get all rows with a MIS_Status of PIF and ChgOffPrinGr greater than zero\n",
    "null_mis_status = dataset[dataset.MIS_Status.isnull() & \n",
    "                          (dataset.ChgOffPrinGr == 0) &\n",
    "                          (dataset.ChgOffDate == dataset.DisbursementDate)]\n",
    "\n",
    "print(null_mis_status[['DisbursementDate', 'ChgOffDate', 'ChgOffPrinGr', 'MIS_Status']])"
   ]
  },
  {
   "cell_type": "markdown",
   "metadata": {},
   "source": [
    "There are zero rows with a null MIS_Status where the ChgOffPrinCr is zero and the ChgOffDate is equal to the DisbursementDate."
   ]
  },
  {
   "cell_type": "markdown",
   "metadata": {},
   "source": [
    "<b>MIS_Status - Step 2: Replace null MIS_Status values with 'CHGOFF' if ChgOffPrinGr is greater than zero and ChgOffDate is greater than the DisbursementDate</b>"
   ]
  },
  {
   "cell_type": "code",
   "execution_count": 56,
   "metadata": {},
   "outputs": [
    {
     "name": "stdout",
     "output_type": "stream",
     "text": [
      "       DisbursementDate ChgOffDate  ChgOffPrinGr MIS_Status\n",
      "611          1980-07-07 1990-05-22      144461.0        NaN\n",
      "740          1980-07-03 1990-02-08      142666.0        NaN\n",
      "6569         1980-09-11 1993-10-27       18775.0        NaN\n",
      "9602         1980-10-08 1989-05-01      133365.0        NaN\n",
      "10412        1980-10-10 1989-02-01        6642.0        NaN\n",
      "...                 ...        ...           ...        ...\n",
      "875570       1997-09-30 1999-03-22        1961.0        NaN\n",
      "879528       1978-05-10 1991-02-25       89611.0        NaN\n",
      "882390       1998-01-31 1999-02-16         407.0        NaN\n",
      "882845       1996-12-31 2001-03-01       22954.0        NaN\n",
      "888537       1979-03-14 1993-12-09      196974.0        NaN\n",
      "\n",
      "[257 rows x 4 columns]\n"
     ]
    }
   ],
   "source": [
    "# Get all rows with a MIS_Status of PIF and ChgOffPrinGr greater than zero\n",
    "null_mis_status = dataset[dataset.MIS_Status.isnull() & \n",
    "                          (dataset.ChgOffPrinGr > 0) &\n",
    "                          (dataset.ChgOffDate > dataset.DisbursementDate)]\n",
    "\n",
    "print(null_mis_status[['DisbursementDate', 'ChgOffDate', 'ChgOffPrinGr', 'MIS_Status']])"
   ]
  },
  {
   "cell_type": "markdown",
   "metadata": {},
   "source": [
    "There are 257 rows with a ChgOffDate greater than the DisbursementDate and a ChgOffPrinGr greater than zero.\n",
    "\n",
    "<b>Decision: Set the MIS_Status for the above 257 rows to CHGOFF</b>"
   ]
  },
  {
   "cell_type": "code",
   "execution_count": 57,
   "metadata": {},
   "outputs": [
    {
     "name": "stdout",
     "output_type": "stream",
     "text": [
      "Empty DataFrame\n",
      "Columns: [DisbursementDate, ChgOffDate, ChgOffPrinGr, MIS_Status]\n",
      "Index: []\n"
     ]
    }
   ],
   "source": [
    "# Set the MIS_Status to CHGOFF\n",
    "dataset.loc[null_mis_status.index, 'MIS_Status'] = 'CHGOFF'\n",
    "\n",
    "# Check that the values were updated\n",
    "null_mis_status = dataset[dataset.MIS_Status.isnull() & \n",
    "                          (dataset.ChgOffPrinGr > 0) &\n",
    "                          (dataset.ChgOffDate > dataset.DisbursementDate)]\n",
    "# This should be an empty dataframe\n",
    "print(null_mis_status[['DisbursementDate', 'ChgOffDate', 'ChgOffPrinGr', 'MIS_Status']])"
   ]
  },
  {
   "cell_type": "markdown",
   "metadata": {},
   "source": [
    "Next, lets check if there are any more rows with a null MIS_Status"
   ]
  },
  {
   "cell_type": "code",
   "execution_count": 58,
   "metadata": {},
   "outputs": [
    {
     "name": "stdout",
     "output_type": "stream",
     "text": [
      "       DisbursementDate ChgOffDate  ChgOffPrinGr MIS_Status\n",
      "4107         1981-03-06 1988-12-20           0.0        NaN\n",
      "706125       1978-04-06 1992-04-03           0.0        NaN\n",
      "718707       1975-05-30 1989-08-25           0.0        NaN\n",
      "875538       1980-08-25 1995-08-01           0.0        NaN\n"
     ]
    }
   ],
   "source": [
    "null_mis_status = dataset[dataset.MIS_Status.isnull()]\n",
    "\n",
    "print(null_mis_status[['DisbursementDate', 'ChgOffDate', 'ChgOffPrinGr', 'MIS_Status']])"
   ]
  },
  {
   "cell_type": "markdown",
   "metadata": {},
   "source": [
    "There are only four rows with a null MIS_Status. They all have a ChgOffPrinGr of zero and the ChgOffDate doesn't equal the DisbursementDate.\n",
    "\n",
    "<b>Decision: Remove the above four rows</b>"
   ]
  },
  {
   "cell_type": "code",
   "execution_count": 59,
   "metadata": {},
   "outputs": [
    {
     "name": "stdout",
     "output_type": "stream",
     "text": [
      "Empty DataFrame\n",
      "Columns: [DisbursementDate, ChgOffDate, ChgOffPrinGr, MIS_Status]\n",
      "Index: []\n"
     ]
    }
   ],
   "source": [
    "# Remove the above four rows\n",
    "dataset.drop(null_mis_status.index, inplace= True)\n",
    "\n",
    "# Check that the rows were removed\n",
    "null_mis_status = dataset[dataset.MIS_Status.isnull()]\n",
    "# This should be an empty dataframe\n",
    "print(null_mis_status[['DisbursementDate', 'ChgOffDate', 'ChgOffPrinGr', 'MIS_Status']])"
   ]
  },
  {
   "cell_type": "markdown",
   "metadata": {},
   "source": [
    "<h2>Add new columns</h2>"
   ]
  },
  {
   "cell_type": "markdown",
   "metadata": {},
   "source": [
    "<h3>TimeToDefault</h3>"
   ]
  },
  {
   "cell_type": "code",
   "execution_count": 60,
   "metadata": {},
   "outputs": [
    {
     "name": "stdout",
     "output_type": "stream",
     "text": [
      "0       734725\n",
      "1317       131\n",
      "1316       130\n",
      "1078       127\n",
      "966        126\n",
      "         ...  \n",
      "9505         1\n",
      "5748         1\n",
      "4391         1\n",
      "119          1\n",
      "5374         1\n",
      "Name: TimeToDefault, Length: 5573, dtype: int64\n",
      "\n",
      "Number of NaNs:  0\n",
      "\n",
      "Rows that are negative: \n",
      "\n",
      "Series([], Name: TimeToDefault, dtype: int16)\n"
     ]
    }
   ],
   "source": [
    "# Add column for TimeToDefault\n",
    "dataset['TimeToDefault'] = dataset.ChgOffDate - dataset.DisbursementDate\n",
    "\n",
    "# Convert values to an int16\n",
    "dataset.TimeToDefault = dataset.TimeToDefault.dt.days.astype('int16')\n",
    "\n",
    "# Look at the value counts \n",
    "print(dataset.TimeToDefault.value_counts())\n",
    "print(\"\\nNumber of NaNs: \", dataset.TimeToDefault.isnull().sum())\n",
    "\n",
    "# See if there any negative time values\n",
    "negative_rows = dataset.TimeToDefault[dataset.TimeToDefault < 0]\n",
    "print(\"\\nRows that are negative: \\n\")\n",
    "print(negative_rows)"
   ]
  },
  {
   "cell_type": "markdown",
   "metadata": {},
   "source": [
    "There are zero negative values, so that's good. We do have 734725 rows with a TimeToDefault of zero. <br>\n",
    "A TimeToDefault of zero implies that the MIS_Status is 'P I F'."
   ]
  },
  {
   "cell_type": "markdown",
   "metadata": {},
   "source": [
    "<h3>RealEstate</h3>"
   ]
  },
  {
   "cell_type": "code",
   "execution_count": 61,
   "metadata": {},
   "outputs": [
    {
     "name": "stdout",
     "output_type": "stream",
     "text": [
      "0    745258\n",
      "1    152112\n",
      "Name: RealEstate, dtype: int64\n",
      "Number of null rows:  0\n"
     ]
    }
   ],
   "source": [
    "# Create the RealEstate column (loans with a Term >= 240 months)\n",
    "dataset['RealEstate'] = np.where(dataset['Term'] >= 240, 1, 0)\n",
    "\n",
    "print(dataset['RealEstate'].value_counts())\n",
    "print(\"Number of null rows: \", dataset.RealEstate.isnull().sum())"
   ]
  },
  {
   "cell_type": "markdown",
   "metadata": {},
   "source": [
    "There are 152112 loans that are backed by real estate."
   ]
  },
  {
   "cell_type": "markdown",
   "metadata": {},
   "source": [
    "<h3>Industry</h3>"
   ]
  },
  {
   "cell_type": "code",
   "execution_count": 62,
   "metadata": {},
   "outputs": [
    {
     "name": "stdout",
     "output_type": "stream",
     "text": [
      "0     201717\n",
      "44     84592\n",
      "81     72409\n",
      "54     67940\n",
      "72     67517\n",
      "23     66496\n",
      "62     55265\n",
      "42     48683\n",
      "45     42424\n",
      "33     38216\n",
      "56     32545\n",
      "48     20210\n",
      "32     17908\n",
      "71     14616\n",
      "53     13593\n",
      "31     11797\n",
      "51     11361\n",
      "52      9476\n",
      "11      8995\n",
      "61      6401\n",
      "49      2213\n",
      "21      1851\n",
      "22       662\n",
      "55       256\n",
      "92       227\n",
      "Name: Industry, dtype: int64\n",
      "\n",
      "Number of null Industry values:  201717\n"
     ]
    }
   ],
   "source": [
    "# Strip out the first two digits of the NAICS code and create the new Industry column\n",
    "dataset['Industry'] = dataset['NAICS'].astype('str').apply(lambda x: x[:2])\n",
    "print(dataset['Industry'].value_counts())\n",
    "\n",
    "dataset['Industry'] = dataset['Industry'].map({\n",
    "    '11': 'Ag/For/Fish/Hunt',\n",
    "    '21': 'Min/Quar/Oil_Gas_ext',\n",
    "    '22': 'Utilities',\n",
    "    '23': 'Construction',\n",
    "    '31': 'Manufacturing',\n",
    "    '32': 'Manufacturing',\n",
    "    '33': 'Manufacturing',\n",
    "    '42': 'Wholesale_trade',\n",
    "    '44': 'Retail_trade',\n",
    "    '45': 'Retail_trade',\n",
    "    '48': 'Trans/Ware',\n",
    "    '49': 'Trans/Ware',\n",
    "    '51': 'Information',\n",
    "    '52': 'Finance/Insurance',\n",
    "    '53': 'RE/Rental/Lease',\n",
    "    '54': 'Prof/Science/Tech',\n",
    "    '55': 'Mgmt_comp',\n",
    "    '56': 'Admin_sup/Waste_Mgmt_Rem',\n",
    "    '61': 'Educational',\n",
    "    '62': 'Healthcare/Social_assist',\n",
    "    '71': 'Arts/Entertain/Rec',\n",
    "    '72': 'Accom/Food_serv',\n",
    "    '81': 'Other_no_pub',\n",
    "    '92': 'Public_Admin'\n",
    "})\n",
    "\n",
    "print(\"\\nNumber of null Industry values: \", dataset['Industry'].isnull().sum())"
   ]
  },
  {
   "cell_type": "markdown",
   "metadata": {},
   "source": [
    "There are 201717 rows with a null Industry value. We can try and fill those values in by inspecting the other columns or just drop them."
   ]
  },
  {
   "cell_type": "code",
   "execution_count": 63,
   "metadata": {},
   "outputs": [
    {
     "name": "stdout",
     "output_type": "stream",
     "text": [
      "MIS_Status value count for null Industry set: \n",
      " P I F     184868\n",
      "CHGOFF     16849\n",
      "Name: MIS_Status, dtype: int64\n",
      "\n",
      "MIS_Status value count for full dataset: \n",
      " P I F     739609\n",
      "CHGOFF    157761\n",
      "Name: MIS_Status, dtype: int64\n"
     ]
    }
   ],
   "source": [
    "null_industry = dataset[dataset.Industry.isnull()]\n",
    "print(\"MIS_Status value count for null Industry set: \\n\", null_industry.MIS_Status.value_counts())\n",
    "print()\n",
    "print(\"MIS_Status value count for full dataset: \\n\", dataset.MIS_Status.value_counts())"
   ]
  },
  {
   "cell_type": "markdown",
   "metadata": {},
   "source": [
    "About 8% of the rows that have a null Industry also have an MIS_Status of 'CHGOFF'.\n",
    "\n",
    "<b>Decision: Remove the 201717 rows with a null Industry<b>"
   ]
  },
  {
   "cell_type": "code",
   "execution_count": 64,
   "metadata": {},
   "outputs": [
    {
     "name": "stdout",
     "output_type": "stream",
     "text": [
      "Number of null Industry values:  0\n"
     ]
    }
   ],
   "source": [
    "# Remove the rows with a null Industry\n",
    "dataset.drop(null_industry.Industry.index, inplace=True)\n",
    "\n",
    "# Verify the rows were removed\n",
    "print(\"Number of null Industry values: \", dataset.Industry.isnull().sum())"
   ]
  },
  {
   "cell_type": "code",
   "execution_count": 65,
   "metadata": {},
   "outputs": [
    {
     "data": {
      "text/plain": [
       "CategoricalDtype(categories=['Accom/Food_serv', 'Admin_sup/Waste_Mgmt_Rem',\n",
       "                  'Ag/For/Fish/Hunt', 'Arts/Entertain/Rec', 'Construction',\n",
       "                  'Educational', 'Finance/Insurance',\n",
       "                  'Healthcare/Social_assist', 'Information', 'Manufacturing',\n",
       "                  'Mgmt_comp', 'Min/Quar/Oil_Gas_ext', 'Other_no_pub',\n",
       "                  'Prof/Science/Tech', 'Public_Admin', 'RE/Rental/Lease',\n",
       "                  'Retail_trade', 'Trans/Ware', 'Utilities',\n",
       "                  'Wholesale_trade'],\n",
       "                 ordered=False)"
      ]
     },
     "execution_count": 65,
     "metadata": {},
     "output_type": "execute_result"
    }
   ],
   "source": [
    "# Set the column type to category\n",
    "dataset.Industry = dataset.Industry.astype('category')\n",
    "\n",
    "dataset.Industry.dtypes"
   ]
  },
  {
   "cell_type": "markdown",
   "metadata": {},
   "source": [
    "<h3>IsFranchise</h3>\n",
    "\n",
    "If a FranchiseCode is greater than 1, then it is considered a franchise. If a FranchiseCode is lessthan or equal to 1, then it's considered not a franchise."
   ]
  },
  {
   "cell_type": "code",
   "execution_count": 66,
   "metadata": {},
   "outputs": [
    {
     "name": "stdout",
     "output_type": "stream",
     "text": [
      "Number of instances of 0:  189797\n",
      "Number of instances of 1:  470946\n"
     ]
    }
   ],
   "source": [
    "print(\"Number of instances of 0: \", np.count_nonzero(dataset.FranchiseCode == '0'))\n",
    "print(\"Number of instances of 1: \", np.count_nonzero(dataset.FranchiseCode == '1'))"
   ]
  },
  {
   "cell_type": "code",
   "execution_count": 67,
   "metadata": {},
   "outputs": [],
   "source": [
    "# Create IsFranchise column based on FranchiseCode\n",
    "dataset.loc[(dataset.FranchiseCode.astype('int64') <= 1), 'IsFranchise'] = 0\n",
    "dataset.loc[(dataset.FranchiseCode.astype('int64') > 1), 'IsFranchise'] = 1\n",
    "dataset.IsFranchise = dataset.IsFranchise.astype('int64')"
   ]
  },
  {
   "cell_type": "code",
   "execution_count": 68,
   "metadata": {},
   "outputs": [
    {
     "data": {
      "text/plain": [
       "0    660743\n",
       "1     34910\n",
       "Name: IsFranchise, dtype: int64"
      ]
     },
     "execution_count": 68,
     "metadata": {},
     "output_type": "execute_result"
    }
   ],
   "source": [
    "dataset.IsFranchise.value_counts()"
   ]
  },
  {
   "cell_type": "markdown",
   "metadata": {},
   "source": [
    "There are 34910 franchises and 660735 non-franchises."
   ]
  },
  {
   "cell_type": "markdown",
   "metadata": {},
   "source": [
    "<h2>Missing values: NewExist, RevLineCr, and LowDoc</h2>\n",
    "\n",
    "Fix Erroneous Values/Categories<br>\n",
    "<b>Decision: Replace all erroneous values with null</b>"
   ]
  },
  {
   "cell_type": "code",
   "execution_count": 69,
   "metadata": {},
   "outputs": [
    {
     "name": "stdout",
     "output_type": "stream",
     "text": [
      "\n",
      "Number of nulls before cleaning:\n",
      "\n",
      "NewExist      134\n",
      "RevLineCr    2335\n",
      "LowDoc       2578\n",
      "dtype: int64\n",
      "\n",
      "NewExist\n",
      "Index(['1', '2'], dtype='object')\n",
      "\n",
      "RevLineCr\n",
      "Index(['N', 'Y'], dtype='object')\n",
      "\n",
      "LowDoc\n",
      "Index(['N', 'Y'], dtype='object')\n",
      "\n",
      "\n",
      "Number of nulls after removing erroneous values:\n",
      "\n",
      "NewExist        864\n",
      "RevLineCr    231077\n",
      "LowDoc         5053\n",
      "dtype: int64\n"
     ]
    }
   ],
   "source": [
    "valid_categories = {'NewExist':{'1', '2'},\n",
    "                    'RevLineCr':{'Y', 'N'},\n",
    "                    'LowDoc':{'Y', 'N'}}\n",
    "\n",
    "print(\"\\nNumber of nulls before cleaning:\\n\")\n",
    "print(dataset[valid_categories].isnull().sum())\n",
    "print()\n",
    "\n",
    "# Remvove erroneous data from NewExist, RevLineCr, and LowDoc\n",
    "for col in valid_categories:\n",
    "    bad_data = set(dataset[col].cat.categories).difference(valid_categories[col])\n",
    "    dataset[col] = dataset[col].cat.remove_categories(list(bad_data))\n",
    "    print(col)\n",
    "    print(dataset[col].cat.categories)\n",
    "    print()\n",
    "\n",
    "print(\"\\nNumber of nulls after removing erroneous values:\\n\")\n",
    "print(dataset[valid_categories].isnull().sum())"
   ]
  },
  {
   "cell_type": "markdown",
   "metadata": {},
   "source": [
    "<h3>NewExist</h3>\n",
    "<b>Decision: <br>\n",
    "    <ol>\n",
    "        <li>If the RetainedJob column is greater than zero, assume the the business is an existing one.</li>\n",
    "        <li>If a borrower has more than one loan, assume all loans after the initial loan is an existing business.</li>\n",
    "        <li>Assume all remaining loans are new businesses.\n",
    "    </ol>\n",
    "</b>"
   ]
  },
  {
   "cell_type": "code",
   "execution_count": 70,
   "metadata": {},
   "outputs": [
    {
     "name": "stdout",
     "output_type": "stream",
     "text": [
      "The number of nulls in NewExist:  756\n"
     ]
    }
   ],
   "source": [
    "# For all null rows with a RetainedJob greater than zero, set the NewExist value to 1 (existing business)\n",
    "null_newexist = dataset[dataset['NewExist'].isnull() & dataset['RetainedJob'] > 0]\n",
    "dataset.loc[null_newexist.index, 'NewExist'] = '1'\n",
    "\n",
    "print(\"The number of nulls in NewExist: \", dataset.NewExist.isnull().sum())"
   ]
  },
  {
   "cell_type": "markdown",
   "metadata": {},
   "source": [
    "<ul>\n",
    "    <li>The number of null values for NewExist decreased.</li>\n",
    "    <li>There are still 756 null values.</li>\n",
    "    <li>Check if the borrower has more than one loan. If so, then assume all loans after the initial loan is an existing business.</li>\n",
    "    <li>For cases where the ApprovalDate is equal to the earliest loan, check compare the DisbursementDate.</li>\n",
    "</ul>"
   ]
  },
  {
   "cell_type": "code",
   "execution_count": 71,
   "metadata": {},
   "outputs": [
    {
     "name": "stdout",
     "output_type": "stream",
     "text": [
      "\n",
      "The number of null: \n",
      "NewExist          0\n",
      "RevLineCr    231077\n",
      "LowDoc         5053\n",
      "dtype: int64\n"
     ]
    }
   ],
   "source": [
    "# Get all rows that have a null NewExist value\n",
    "null_newexist = dataset[dataset['NewExist'].isnull()]\n",
    "names = null_newexist['Name'].unique()\n",
    "\n",
    "for name in names:\n",
    "    \n",
    "    # Get all rows with 'name' that has a null NewExist value\n",
    "    df_null = null_newexist[null_newexist['Name'] == name]\n",
    "\n",
    "    # Get all rows with 'name'\n",
    "    df_name = dataset[dataset['Name'] == name]\n",
    "    min_approval_date = df_name['ApprovalDate'].min()\n",
    "    min_disburse_date = df_name['DisbursementDate'].min()\n",
    "    \n",
    "    # Uncomment for debugging\n",
    "    #print(df_null[['Name', 'ApprovalDate', 'DisbursementDate', 'NewExist']])\n",
    "    #print(name, \" min: \", min_approval_date, \" max: \", df_name['ApprovalDate'].max())\n",
    "    #print()\n",
    "\n",
    "    # For each row with 'name' that has a null NewExist value...\n",
    "    for idx in df_null.index:\n",
    "        \n",
    "        # If the ApprovalDate is later than the earliest ApprovalDate, then it's an existing business\n",
    "        if df_null.loc[idx, 'ApprovalDate'] > min_approval_date:\n",
    "            dataset.loc[idx, 'NewExist'] = '1'\n",
    "            \n",
    "        # Else, if the ApprovalDate is equal to the earliest ApprovalDate, compare DisbursementDate\n",
    "        else:\n",
    "            \n",
    "            # If the DisbursementDate is greater than the earliest DisbursementDate, mark it as an existing business\n",
    "            if (df_null.loc[idx, 'DisbursementDate'] > min_disburse_date):\n",
    "                dataset.loc[idx, 'NewExist'] = '1'\n",
    "                \n",
    "            # Else, if the DisbursementDate it equal to the earliest DisbursementDate, mark it as a new business\n",
    "            else:\n",
    "                dataset.loc[idx, 'NewExist'] = '2'\n",
    "\n",
    "# The remaining null values are new businesses\n",
    "dataset['NewExist'].fillna('2')\n",
    "\n",
    "# Print the number of null values\n",
    "print(\"\\nThe number of null: \")\n",
    "print(dataset[valid_categories].isnull().sum())"
   ]
  },
  {
   "cell_type": "markdown",
   "metadata": {},
   "source": [
    "There are no more null values for the NewExist column."
   ]
  },
  {
   "cell_type": "markdown",
   "metadata": {},
   "source": [
    "<h3>RevLineCr</h3>"
   ]
  },
  {
   "cell_type": "code",
   "execution_count": 72,
   "metadata": {},
   "outputs": [
    {
     "data": {
      "text/plain": [
       "N    270033\n",
       "Y    194543\n",
       "Name: RevLineCr, dtype: int64"
      ]
     },
     "execution_count": 72,
     "metadata": {},
     "output_type": "execute_result"
    }
   ],
   "source": [
    "dataset.RevLineCr.value_counts()"
   ]
  },
  {
   "cell_type": "code",
   "execution_count": 73,
   "metadata": {},
   "outputs": [
    {
     "name": "stdout",
     "output_type": "stream",
     "text": [
      "Number of values:  464576\n",
      "Number of missing values:  231077\n"
     ]
    }
   ],
   "source": [
    "print(\"Number of values: \", dataset.RevLineCr.notnull().sum())\n",
    "print(\"Number of missing values: \", dataset.RevLineCr.isnull().sum())"
   ]
  },
  {
   "cell_type": "markdown",
   "metadata": {},
   "source": [
    "About 30% of values is missing, can impute values using the SimpleImputer.<br>\n",
    "\n",
    "<b>Decision: Replace missing values for the RevLineCr column with its mode.</b>"
   ]
  },
  {
   "cell_type": "code",
   "execution_count": 74,
   "metadata": {},
   "outputs": [
    {
     "name": "stdout",
     "output_type": "stream",
     "text": [
      "Number of values:  695653\n",
      "Number of missing values:  0\n"
     ]
    }
   ],
   "source": [
    "# Replace null values with mode\n",
    "dataset.RevLineCr.fillna(dataset.RevLineCr.mode()[0], inplace=True)\n",
    "\n",
    "# Check that are no more missing values\n",
    "print(\"Number of values: \", dataset.RevLineCr.notnull().sum())\n",
    "print(\"Number of missing values: \", dataset.RevLineCr.isnull().sum())"
   ]
  },
  {
   "cell_type": "markdown",
   "metadata": {},
   "source": [
    "<h3>LowDoc</h3>\n",
    "\n",
    "From the original article:\n",
    "<pre>\n",
    "LowDoc (Y = Yes, N = No): In order to process more loans efficiently, a “LowDoc Loan” program was implemented where loans under $150,000 can be processed using a one-page application. “Yes” indicates loans with a one-page application, and “No” indicates loans with more information attached to the application.\n",
    "</pre>"
   ]
  },
  {
   "cell_type": "code",
   "execution_count": 75,
   "metadata": {},
   "outputs": [
    {
     "data": {
      "text/plain": [
       "N    623356\n",
       "Y     67244\n",
       "Name: LowDoc, dtype: int64"
      ]
     },
     "execution_count": 75,
     "metadata": {},
     "output_type": "execute_result"
    }
   ],
   "source": [
    "dataset.LowDoc.value_counts()"
   ]
  },
  {
   "cell_type": "code",
   "execution_count": 76,
   "metadata": {},
   "outputs": [
    {
     "name": "stdout",
     "output_type": "stream",
     "text": [
      "Number of values:  690600\n",
      "Number of missing values:  5053\n"
     ]
    }
   ],
   "source": [
    "print(\"Number of values: \", dataset.LowDoc.notnull().sum())\n",
    "print(\"Number of missing values: \", dataset.LowDoc.isnull().sum())"
   ]
  },
  {
   "cell_type": "markdown",
   "metadata": {},
   "source": [
    "<b>Decision: Replace missing values for the LowDoc column with its mode.</b>"
   ]
  },
  {
   "cell_type": "code",
   "execution_count": 77,
   "metadata": {},
   "outputs": [
    {
     "name": "stdout",
     "output_type": "stream",
     "text": [
      "Number of values:  695653\n",
      "Number of missing values:  0\n"
     ]
    }
   ],
   "source": [
    "# Replace null values with mode\n",
    "dataset.LowDoc.fillna(dataset.LowDoc.mode()[0], inplace=True)\n",
    "\n",
    "# Check that are no more missing values\n",
    "print(\"Number of values: \", dataset.LowDoc.notnull().sum())\n",
    "print(\"Number of missing values: \", dataset.LowDoc.isnull().sum())"
   ]
  },
  {
   "cell_type": "markdown",
   "metadata": {},
   "source": [
    "<h2>Drop Columns</h2>\n",
    "\n",
    "The following columns will be dropped:\n",
    "<ul>\n",
    "    <li><b>LoanNr_ChkDgt -</b> This is a unique key and does not provide any information about the borrower's credit worthiness.</li>\n",
    "    <li><b>Name -</b> There are many unique values in this distribution and we do not think the name of a borrower has any impact on their credit worthiness.</li>\n",
    "    <li><b>City -</b> There are many unique values in this column. We will only consider the state a borrower is from.</li>\n",
    "    <li><b>Zip -</b> There are many unique values in this column. We will only consider the state a borrower is from.</li>\n",
    "    <li><b>Bank -</b> This is lender information and does not provide any information about the borrower's credit worthiness.</li>\n",
    "    <li><b>BankState -</b> This is lender information and does not provide any information about the borrower's credit worthiness.</li>\n",
    "    <li><b>NAICS -</b> This column was replaced with the Industry column.</li>\n",
    "    <li><b>FranchiseCode -</b> This column was replaced with a new IsFranchise column.</li>\n",
    "    <li><b>ApprovalDate -</b> There are many unique values and the distribution. We will only consider the year a loan is approved.</li>\n",
    "    <li><b>ChgOffDate -</b> Together with DisbursementDate, this column is replaced with the TimeToDefault column.</li>\n",
    "    <li><b>DisbursementDate -</b> Together with ChgOffDate, this column is replaced with TimeToDefault column.</li>\n",
    "    <li><b>GrAppv -</b> There are many unique values in this column. This does not provide any information about the borrower's credit worthiness.</li>\n",
    "    <li><b>SBA_Appv -</b> There are many unique values in this column. This does not provide any information about the borrower's credit worthiness.</li>\n",
    "</ul>"
   ]
  },
  {
   "cell_type": "code",
   "execution_count": 78,
   "metadata": {},
   "outputs": [
    {
     "name": "stdout",
     "output_type": "stream",
     "text": [
      "Shape before drop:  (695653, 31)\n",
      "Shape after drop:  (695653, 18)\n"
     ]
    }
   ],
   "source": [
    "# Remove the following columns from the dataset\n",
    "cols_to_drop = ['LoanNr_ChkDgt', \n",
    "                'Name', \n",
    "                'City', \n",
    "                'Zip', \n",
    "                'Bank', \n",
    "                'BankState', \n",
    "                'NAICS', \n",
    "                'FranchiseCode', \n",
    "                'ApprovalDate', \n",
    "                'ChgOffDate', \n",
    "                'DisbursementDate',\n",
    "                'GrAppv',\n",
    "                'SBA_Appv']\n",
    "\n",
    "print(\"Shape before drop: \", dataset.shape)\n",
    "\n",
    "dataset.drop(cols_to_drop, axis=1, inplace=True)\n",
    "\n",
    "print(\"Shape after drop: \", dataset.shape)"
   ]
  },
  {
   "cell_type": "markdown",
   "metadata": {},
   "source": [
    "<h2>Cleaning Summary</h2>\n",
    "\n",
    "Before we continue lets make sure we have all the null values taken care of to this point."
   ]
  },
  {
   "cell_type": "code",
   "execution_count": 79,
   "metadata": {},
   "outputs": [
    {
     "name": "stdout",
     "output_type": "stream",
     "text": [
      "State                8\n",
      "ApprovalFY           0\n",
      "Term                 0\n",
      "NoEmp                0\n",
      "NewExist             0\n",
      "CreateJob            0\n",
      "RetainedJob          0\n",
      "UrbanRural           0\n",
      "RevLineCr            0\n",
      "LowDoc               0\n",
      "DisbursementGross    0\n",
      "BalanceGross         0\n",
      "MIS_Status           0\n",
      "ChgOffPrinGr         0\n",
      "TimeToDefault        0\n",
      "RealEstate           0\n",
      "Industry             0\n",
      "IsFranchise          0\n",
      "dtype: int64\n",
      "(695653, 18)\n"
     ]
    }
   ],
   "source": [
    "# Print the breakdown of null values\n",
    "print(dataset.isnull().sum())\n",
    "print(dataset.shape)"
   ]
  },
  {
   "cell_type": "markdown",
   "metadata": {},
   "source": [
    "The State column still has 8 null values. We will drop those.\n",
    "\n",
    "<b>Decision: Drop remaining 8 null values in the State column.</b>"
   ]
  },
  {
   "cell_type": "code",
   "execution_count": 80,
   "metadata": {},
   "outputs": [],
   "source": [
    "# Drop rows with a null value\n",
    "null_state = dataset[dataset.State.isnull()]\n",
    "dataset.drop(null_state.index, inplace=True)"
   ]
  },
  {
   "cell_type": "code",
   "execution_count": 81,
   "metadata": {},
   "outputs": [
    {
     "name": "stdout",
     "output_type": "stream",
     "text": [
      "State                0\n",
      "ApprovalFY           0\n",
      "Term                 0\n",
      "NoEmp                0\n",
      "NewExist             0\n",
      "CreateJob            0\n",
      "RetainedJob          0\n",
      "UrbanRural           0\n",
      "RevLineCr            0\n",
      "LowDoc               0\n",
      "DisbursementGross    0\n",
      "BalanceGross         0\n",
      "MIS_Status           0\n",
      "ChgOffPrinGr         0\n",
      "TimeToDefault        0\n",
      "RealEstate           0\n",
      "Industry             0\n",
      "IsFranchise          0\n",
      "dtype: int64\n",
      "\n",
      "The shape of the dataset after cleaning:  (695645, 18)\n"
     ]
    }
   ],
   "source": [
    "# Print the breakdown of null values\n",
    "print(dataset.isnull().sum())\n",
    "print(\"\\nThe shape of the dataset after cleaning: \", dataset.shape)"
   ]
  },
  {
   "cell_type": "markdown",
   "metadata": {},
   "source": [
    "There are no more null values. The data has been cleaned and formatted. We are ready to move on to the modeling."
   ]
  },
  {
   "cell_type": "markdown",
   "metadata": {},
   "source": [
    "<h1>Modeling</h1>\n",
    "\n",
    "In Modeling, we will be fitting our cleaned dataset with different Classifiers with or without Dinemsional Reductions.\n",
    "Before we do that we have to prepare the data. The following steps are performed to match the requirements of all the machine learning algorithms and also to remove bias in our results.\n",
    "\n",
    "OneHotEncoding: As we know in some Machine Learning algorithms the input and the output variables should be numerical, we need to perform OneHotEncoding so as to convert the categorical variables in our dataset. Here those categorical variables are NewExist, RevLineCr and LowDoc.\n",
    "\n",
    "Removal of PIF rows: The plot after code cell no. 13 shows the count of each categories, PIF and CHGOFF which is hugely imbalanced. We have removed the extra PIF rows so that each new predicted observation will have an equal chance of being PIF or CHGOFF.\n",
    "\n",
    "Dimensionality Reduction, Cross Validation and Model Selection: In order to find the best ML model which fits our dataset, we have used some concepts. We selected 3 types of Classifiers namely Logistic Regression, K-NN and Kernel SVM. For each of the classifiers, we have used no Dimensionality Reduction or Feature Selection which were performed during previous data cleaning processes as the first case and PCA and LDA with 1 dimension as Dimensionality Reduction techniques in other cases. Then we have done GridSearch to select optimal parameters in each case and then K-fold validation on the Training sets in each case. We have then found out the Mean and Standard Deviation of Model Accuracies for each case under each Classifier and compared them to find the best ML model to fit."
   ]
  },
  {
   "cell_type": "markdown",
   "metadata": {},
   "source": [
    "<h2>OneHotEncoding for Categorical Columns</h2>"
   ]
  },
  {
   "cell_type": "code",
   "execution_count": 82,
   "metadata": {},
   "outputs": [
    {
     "data": {
      "text/html": [
       "<div>\n",
       "<style scoped>\n",
       "    .dataframe tbody tr th:only-of-type {\n",
       "        vertical-align: middle;\n",
       "    }\n",
       "\n",
       "    .dataframe tbody tr th {\n",
       "        vertical-align: top;\n",
       "    }\n",
       "\n",
       "    .dataframe thead th {\n",
       "        text-align: right;\n",
       "    }\n",
       "</style>\n",
       "<table border=\"1\" class=\"dataframe\">\n",
       "  <thead>\n",
       "    <tr style=\"text-align: right;\">\n",
       "      <th></th>\n",
       "      <th>State</th>\n",
       "      <th>ApprovalFY</th>\n",
       "      <th>Term</th>\n",
       "      <th>NoEmp</th>\n",
       "      <th>NewExist</th>\n",
       "      <th>CreateJob</th>\n",
       "      <th>RetainedJob</th>\n",
       "      <th>UrbanRural</th>\n",
       "      <th>RevLineCr</th>\n",
       "      <th>LowDoc</th>\n",
       "      <th>DisbursementGross</th>\n",
       "      <th>BalanceGross</th>\n",
       "      <th>MIS_Status</th>\n",
       "      <th>ChgOffPrinGr</th>\n",
       "      <th>TimeToDefault</th>\n",
       "      <th>RealEstate</th>\n",
       "      <th>Industry</th>\n",
       "      <th>IsFranchise</th>\n",
       "    </tr>\n",
       "  </thead>\n",
       "  <tbody>\n",
       "    <tr>\n",
       "      <th>0</th>\n",
       "      <td>IN</td>\n",
       "      <td>1997</td>\n",
       "      <td>84</td>\n",
       "      <td>4</td>\n",
       "      <td>2</td>\n",
       "      <td>0</td>\n",
       "      <td>0</td>\n",
       "      <td>0</td>\n",
       "      <td>N</td>\n",
       "      <td>Y</td>\n",
       "      <td>60000.0</td>\n",
       "      <td>0.0</td>\n",
       "      <td>P I F</td>\n",
       "      <td>0.0</td>\n",
       "      <td>0</td>\n",
       "      <td>0</td>\n",
       "      <td>Retail_trade</td>\n",
       "      <td>0</td>\n",
       "    </tr>\n",
       "    <tr>\n",
       "      <th>1</th>\n",
       "      <td>IN</td>\n",
       "      <td>1997</td>\n",
       "      <td>60</td>\n",
       "      <td>2</td>\n",
       "      <td>2</td>\n",
       "      <td>0</td>\n",
       "      <td>0</td>\n",
       "      <td>0</td>\n",
       "      <td>N</td>\n",
       "      <td>Y</td>\n",
       "      <td>40000.0</td>\n",
       "      <td>0.0</td>\n",
       "      <td>P I F</td>\n",
       "      <td>0.0</td>\n",
       "      <td>0</td>\n",
       "      <td>0</td>\n",
       "      <td>Accom/Food_serv</td>\n",
       "      <td>0</td>\n",
       "    </tr>\n",
       "    <tr>\n",
       "      <th>2</th>\n",
       "      <td>IN</td>\n",
       "      <td>1997</td>\n",
       "      <td>180</td>\n",
       "      <td>7</td>\n",
       "      <td>1</td>\n",
       "      <td>0</td>\n",
       "      <td>0</td>\n",
       "      <td>0</td>\n",
       "      <td>N</td>\n",
       "      <td>N</td>\n",
       "      <td>287000.0</td>\n",
       "      <td>0.0</td>\n",
       "      <td>P I F</td>\n",
       "      <td>0.0</td>\n",
       "      <td>0</td>\n",
       "      <td>0</td>\n",
       "      <td>Healthcare/Social_assist</td>\n",
       "      <td>0</td>\n",
       "    </tr>\n",
       "    <tr>\n",
       "      <th>5</th>\n",
       "      <td>CT</td>\n",
       "      <td>1997</td>\n",
       "      <td>120</td>\n",
       "      <td>19</td>\n",
       "      <td>1</td>\n",
       "      <td>0</td>\n",
       "      <td>0</td>\n",
       "      <td>0</td>\n",
       "      <td>N</td>\n",
       "      <td>N</td>\n",
       "      <td>517000.0</td>\n",
       "      <td>0.0</td>\n",
       "      <td>P I F</td>\n",
       "      <td>0.0</td>\n",
       "      <td>0</td>\n",
       "      <td>0</td>\n",
       "      <td>Manufacturing</td>\n",
       "      <td>0</td>\n",
       "    </tr>\n",
       "    <tr>\n",
       "      <th>7</th>\n",
       "      <td>FL</td>\n",
       "      <td>1997</td>\n",
       "      <td>84</td>\n",
       "      <td>1</td>\n",
       "      <td>2</td>\n",
       "      <td>0</td>\n",
       "      <td>0</td>\n",
       "      <td>0</td>\n",
       "      <td>N</td>\n",
       "      <td>Y</td>\n",
       "      <td>45000.0</td>\n",
       "      <td>0.0</td>\n",
       "      <td>P I F</td>\n",
       "      <td>0.0</td>\n",
       "      <td>0</td>\n",
       "      <td>0</td>\n",
       "      <td>Other_no_pub</td>\n",
       "      <td>0</td>\n",
       "    </tr>\n",
       "  </tbody>\n",
       "</table>\n",
       "</div>"
      ],
      "text/plain": [
       "  State  ApprovalFY  Term  NoEmp NewExist  CreateJob  RetainedJob UrbanRural  \\\n",
       "0    IN        1997    84      4        2          0            0          0   \n",
       "1    IN        1997    60      2        2          0            0          0   \n",
       "2    IN        1997   180      7        1          0            0          0   \n",
       "5    CT        1997   120     19        1          0            0          0   \n",
       "7    FL        1997    84      1        2          0            0          0   \n",
       "\n",
       "  RevLineCr LowDoc  DisbursementGross  BalanceGross MIS_Status  ChgOffPrinGr  \\\n",
       "0         N      Y            60000.0           0.0      P I F           0.0   \n",
       "1         N      Y            40000.0           0.0      P I F           0.0   \n",
       "2         N      N           287000.0           0.0      P I F           0.0   \n",
       "5         N      N           517000.0           0.0      P I F           0.0   \n",
       "7         N      Y            45000.0           0.0      P I F           0.0   \n",
       "\n",
       "   TimeToDefault  RealEstate                  Industry  IsFranchise  \n",
       "0              0           0              Retail_trade            0  \n",
       "1              0           0           Accom/Food_serv            0  \n",
       "2              0           0  Healthcare/Social_assist            0  \n",
       "5              0           0             Manufacturing            0  \n",
       "7              0           0              Other_no_pub            0  "
      ]
     },
     "execution_count": 82,
     "metadata": {},
     "output_type": "execute_result"
    }
   ],
   "source": [
    "dataset.head()"
   ]
  },
  {
   "cell_type": "code",
   "execution_count": 83,
   "metadata": {},
   "outputs": [
    {
     "data": {
      "text/html": [
       "<div>\n",
       "<style scoped>\n",
       "    .dataframe tbody tr th:only-of-type {\n",
       "        vertical-align: middle;\n",
       "    }\n",
       "\n",
       "    .dataframe tbody tr th {\n",
       "        vertical-align: top;\n",
       "    }\n",
       "\n",
       "    .dataframe thead th {\n",
       "        text-align: right;\n",
       "    }\n",
       "</style>\n",
       "<table border=\"1\" class=\"dataframe\">\n",
       "  <thead>\n",
       "    <tr style=\"text-align: right;\">\n",
       "      <th></th>\n",
       "      <th>ApprovalFY</th>\n",
       "      <th>Term</th>\n",
       "      <th>NoEmp</th>\n",
       "      <th>CreateJob</th>\n",
       "      <th>RetainedJob</th>\n",
       "      <th>DisbursementGross</th>\n",
       "      <th>BalanceGross</th>\n",
       "      <th>MIS_Status</th>\n",
       "      <th>ChgOffPrinGr</th>\n",
       "      <th>TimeToDefault</th>\n",
       "      <th>RealEstate</th>\n",
       "      <th>IsFranchise</th>\n",
       "      <th>NewExist_1</th>\n",
       "      <th>NewExist_2</th>\n",
       "      <th>RevLineCr_N</th>\n",
       "      <th>RevLineCr_Y</th>\n",
       "      <th>LowDoc_N</th>\n",
       "      <th>LowDoc_Y</th>\n",
       "    </tr>\n",
       "  </thead>\n",
       "  <tbody>\n",
       "    <tr>\n",
       "      <th>0</th>\n",
       "      <td>1997</td>\n",
       "      <td>84</td>\n",
       "      <td>4</td>\n",
       "      <td>0</td>\n",
       "      <td>0</td>\n",
       "      <td>60000.0</td>\n",
       "      <td>0.0</td>\n",
       "      <td>P I F</td>\n",
       "      <td>0.0</td>\n",
       "      <td>0</td>\n",
       "      <td>0</td>\n",
       "      <td>0</td>\n",
       "      <td>0</td>\n",
       "      <td>1</td>\n",
       "      <td>1</td>\n",
       "      <td>0</td>\n",
       "      <td>0</td>\n",
       "      <td>1</td>\n",
       "    </tr>\n",
       "    <tr>\n",
       "      <th>1</th>\n",
       "      <td>1997</td>\n",
       "      <td>60</td>\n",
       "      <td>2</td>\n",
       "      <td>0</td>\n",
       "      <td>0</td>\n",
       "      <td>40000.0</td>\n",
       "      <td>0.0</td>\n",
       "      <td>P I F</td>\n",
       "      <td>0.0</td>\n",
       "      <td>0</td>\n",
       "      <td>0</td>\n",
       "      <td>0</td>\n",
       "      <td>0</td>\n",
       "      <td>1</td>\n",
       "      <td>1</td>\n",
       "      <td>0</td>\n",
       "      <td>0</td>\n",
       "      <td>1</td>\n",
       "    </tr>\n",
       "    <tr>\n",
       "      <th>2</th>\n",
       "      <td>1997</td>\n",
       "      <td>180</td>\n",
       "      <td>7</td>\n",
       "      <td>0</td>\n",
       "      <td>0</td>\n",
       "      <td>287000.0</td>\n",
       "      <td>0.0</td>\n",
       "      <td>P I F</td>\n",
       "      <td>0.0</td>\n",
       "      <td>0</td>\n",
       "      <td>0</td>\n",
       "      <td>0</td>\n",
       "      <td>1</td>\n",
       "      <td>0</td>\n",
       "      <td>1</td>\n",
       "      <td>0</td>\n",
       "      <td>1</td>\n",
       "      <td>0</td>\n",
       "    </tr>\n",
       "    <tr>\n",
       "      <th>5</th>\n",
       "      <td>1997</td>\n",
       "      <td>120</td>\n",
       "      <td>19</td>\n",
       "      <td>0</td>\n",
       "      <td>0</td>\n",
       "      <td>517000.0</td>\n",
       "      <td>0.0</td>\n",
       "      <td>P I F</td>\n",
       "      <td>0.0</td>\n",
       "      <td>0</td>\n",
       "      <td>0</td>\n",
       "      <td>0</td>\n",
       "      <td>1</td>\n",
       "      <td>0</td>\n",
       "      <td>1</td>\n",
       "      <td>0</td>\n",
       "      <td>1</td>\n",
       "      <td>0</td>\n",
       "    </tr>\n",
       "    <tr>\n",
       "      <th>7</th>\n",
       "      <td>1997</td>\n",
       "      <td>84</td>\n",
       "      <td>1</td>\n",
       "      <td>0</td>\n",
       "      <td>0</td>\n",
       "      <td>45000.0</td>\n",
       "      <td>0.0</td>\n",
       "      <td>P I F</td>\n",
       "      <td>0.0</td>\n",
       "      <td>0</td>\n",
       "      <td>0</td>\n",
       "      <td>0</td>\n",
       "      <td>0</td>\n",
       "      <td>1</td>\n",
       "      <td>1</td>\n",
       "      <td>0</td>\n",
       "      <td>0</td>\n",
       "      <td>1</td>\n",
       "    </tr>\n",
       "  </tbody>\n",
       "</table>\n",
       "</div>"
      ],
      "text/plain": [
       "   ApprovalFY  Term  NoEmp  CreateJob  RetainedJob  DisbursementGross  \\\n",
       "0        1997    84      4          0            0            60000.0   \n",
       "1        1997    60      2          0            0            40000.0   \n",
       "2        1997   180      7          0            0           287000.0   \n",
       "5        1997   120     19          0            0           517000.0   \n",
       "7        1997    84      1          0            0            45000.0   \n",
       "\n",
       "   BalanceGross MIS_Status  ChgOffPrinGr  TimeToDefault  RealEstate  \\\n",
       "0           0.0      P I F           0.0              0           0   \n",
       "1           0.0      P I F           0.0              0           0   \n",
       "2           0.0      P I F           0.0              0           0   \n",
       "5           0.0      P I F           0.0              0           0   \n",
       "7           0.0      P I F           0.0              0           0   \n",
       "\n",
       "   IsFranchise  NewExist_1  NewExist_2  RevLineCr_N  RevLineCr_Y  LowDoc_N  \\\n",
       "0            0           0           1            1            0         0   \n",
       "1            0           0           1            1            0         0   \n",
       "2            0           1           0            1            0         1   \n",
       "5            0           1           0            1            0         1   \n",
       "7            0           0           1            1            0         0   \n",
       "\n",
       "   LowDoc_Y  \n",
       "0         1  \n",
       "1         1  \n",
       "2         0  \n",
       "5         0  \n",
       "7         1  "
      ]
     },
     "execution_count": 83,
     "metadata": {},
     "output_type": "execute_result"
    }
   ],
   "source": [
    "# OneHotEncoding (pandas equivalent) for categorical columns\n",
    "\n",
    "# Comment out if encoding with all columns\n",
    "encode_cols = ['NewExist', 'RevLineCr', 'LowDoc']\n",
    "\n",
    "# Uncomment if encoding with all columns\n",
    "# encode_cols = ['State', 'NewExist', 'UrbanRural', 'RevLineCr', 'LowDoc', 'Industry']\n",
    "\n",
    "# Do the encoding\n",
    "encoded_df = pd.get_dummies(dataset, columns=encode_cols, prefix=encode_cols)\n",
    "\n",
    "# Comment out if encoding all columns\n",
    "encoded_df.drop(['State', 'Industry', 'UrbanRural'], axis=1, inplace=True)\n",
    "\n",
    "encoded_df.head()"
   ]
  },
  {
   "cell_type": "code",
   "execution_count": 84,
   "metadata": {},
   "outputs": [
    {
     "name": "stdout",
     "output_type": "stream",
     "text": [
      "Before dropping rows:\n",
      "(554734, 18)\n",
      "(140911, 18)\n",
      "Number of PIF rows to drop:  413823\n",
      "After dropping rows:\n",
      "(140911, 18)\n",
      "(140911, 18)\n",
      "(281822, 18)\n"
     ]
    }
   ],
   "source": [
    "# Remove some of the PIF rows to balance the data and to also help performance\n",
    "print(\"Before dropping rows:\")\n",
    "pifs = encoded_df[encoded_df.MIS_Status == \"P I F\"]\n",
    "num_pifs = pifs.shape[0]\n",
    "print(pifs.shape)\n",
    "\n",
    "chgoffs = encoded_df[encoded_df.MIS_Status == \"CHGOFF\"]\n",
    "num_chgoffs = chgoffs.shape[0]\n",
    "print(chgoffs.shape)\n",
    "\n",
    "num_drop = num_pifs - num_chgoffs\n",
    "print(\"Number of PIF rows to drop: \" , num_drop)\n",
    "\n",
    "# Randomly drop rows of PIFs\n",
    "np.random.seed()\n",
    "drop_indices = np.random.choice(pifs.index, num_drop, replace=False)\n",
    "encoded_df.drop(drop_indices, inplace=True)\n",
    "\n",
    "# Check that the rows were removed\n",
    "print(\"After dropping rows:\")\n",
    "pifs = encoded_df[encoded_df.MIS_Status == \"P I F\"]\n",
    "print(pifs.shape)\n",
    "\n",
    "chgoffs = encoded_df[encoded_df.MIS_Status == \"CHGOFF\"]\n",
    "print(chgoffs.shape)\n",
    "\n",
    "print(encoded_df.shape)"
   ]
  },
  {
   "cell_type": "code",
   "execution_count": 85,
   "metadata": {},
   "outputs": [
    {
     "data": {
      "text/plain": [
       "Index(['ApprovalFY', 'Term', 'NoEmp', 'CreateJob', 'RetainedJob',\n",
       "       'DisbursementGross', 'BalanceGross', 'MIS_Status', 'ChgOffPrinGr',\n",
       "       'TimeToDefault', 'RealEstate', 'IsFranchise', 'NewExist_1',\n",
       "       'NewExist_2', 'RevLineCr_N', 'RevLineCr_Y', 'LowDoc_N', 'LowDoc_Y'],\n",
       "      dtype='object')"
      ]
     },
     "execution_count": 85,
     "metadata": {},
     "output_type": "execute_result"
    }
   ],
   "source": [
    "encoded_df.columns"
   ]
  },
  {
   "cell_type": "markdown",
   "metadata": {},
   "source": [
    "<h2>Dimensionality Reduction, Cross Validation and Model Selection</h2>"
   ]
  },
  {
   "cell_type": "markdown",
   "metadata": {},
   "source": [
    "<h3>Create Train/Test Split and Scale the Data</h3>"
   ]
  },
  {
   "cell_type": "code",
   "execution_count": 86,
   "metadata": {},
   "outputs": [],
   "source": [
    "# Get the X and y columns\n",
    "x_columns = encoded_df.columns.drop('MIS_Status')\n",
    "y_column = encoded_df.columns.drop(x_columns)\n",
    "\n",
    "X = encoded_df.loc[:, x_columns].values\n",
    "y = encoded_df.loc[:, y_column].values\n",
    "\n",
    "# Dependent variable\n",
    "labelencoder_y = LabelEncoder()\n",
    "y = labelencoder_y.fit_transform(y.ravel())\n",
    "\n",
    "# Splitting the data into Training Set and Test Set\n",
    "X_train, X_test, y_train, y_test = train_test_split(X,y,test_size=0.2,random_state=0)\n",
    "\n",
    "# Normalizing the features\n",
    "sc_X = StandardScaler()\n",
    "X_train = sc_X.fit_transform(X_train)\n",
    "X_test = sc_X.transform(X_test)"
   ]
  },
  {
   "cell_type": "code",
   "execution_count": 87,
   "metadata": {},
   "outputs": [],
   "source": [
    "# For tracking the results\n",
    "modeling_results = pd.DataFrame(columns = ['Model', 'Best Params', 'Mean', 'Std', 'Execution Time (s)'])"
   ]
  },
  {
   "cell_type": "markdown",
   "metadata": {},
   "source": [
    "<h3>Perform LogisticRegression</h3>"
   ]
  },
  {
   "cell_type": "code",
   "execution_count": 88,
   "metadata": {},
   "outputs": [
    {
     "name": "stdout",
     "output_type": "stream",
     "text": [
      "Wed Dec  9 22:37:10 2020\n",
      "Wed Dec  9 22:37:28 2020\n",
      "--- 17.480476140975952 seconds ---\n",
      "\n",
      "Mean:  0.9929121777537604\n",
      "Std:  0.0005178837382276892\n"
     ]
    }
   ],
   "source": [
    "# For performance evaluation purposes\n",
    "start_time = time.time()\n",
    "print(time.ctime(start_time))\n",
    "\n",
    "# Create a classifier object for LogisticRegression\n",
    "classifierObj = LogisticRegression(random_state=0)\n",
    "\n",
    "# K-Fold Cross Validation\n",
    "modelAccuracies = cross_val_score(estimator=classifierObj, X=X_train, y=y_train, cv=10)\n",
    "\n",
    "# For performance evaluation purposes\n",
    "end_time = time.time()\n",
    "print(time.ctime(end_time))\n",
    "exec_time = end_time - start_time\n",
    "print(\"--- %s seconds ---\" % exec_time)\n",
    "\n",
    "print(\"\\nMean: \", modelAccuracies.mean())\n",
    "print(\"Std: \", modelAccuracies.std())\n",
    "\n",
    "modeling_results.loc[len(modeling_results.index)] = ['LogisticRegression',\n",
    "                                                     '',\n",
    "                                                     modelAccuracies.mean(), \n",
    "                                                     modelAccuracies.std(),\n",
    "                                                     exec_time]  "
   ]
  },
  {
   "cell_type": "markdown",
   "metadata": {},
   "source": [
    "<b>LogisticRegression with PCA</b>"
   ]
  },
  {
   "cell_type": "code",
   "execution_count": 89,
   "metadata": {},
   "outputs": [
    {
     "name": "stdout",
     "output_type": "stream",
     "text": [
      "Wed Dec  9 22:37:28 2020\n",
      "Wed Dec  9 22:37:37 2020\n",
      "--- 9.1589937210083 seconds ---\n",
      "\n",
      "Mean:  0.7090132671172632\n",
      "Std:  0.0019849770361096055\n"
     ]
    }
   ],
   "source": [
    "# For performance evaluation purposes\n",
    "start_time = time.time()\n",
    "print(time.ctime(start_time))\n",
    "\n",
    "# Creating a pipeline\n",
    "pipe_lr = make_pipeline(PCA(n_components=2), LogisticRegression(random_state=0))\n",
    "\n",
    "# K-Fold Cross Validation\n",
    "modelAccuracies = cross_val_score(estimator=pipe_lr, X=X_train, y=y_train, cv=10)\n",
    "\n",
    "# For performance evaluation purposes\n",
    "end_time = time.time()\n",
    "print(time.ctime(end_time))\n",
    "exec_time = end_time - start_time\n",
    "print(\"--- %s seconds ---\" % exec_time)\n",
    "\n",
    "print(\"\\nMean: \", modelAccuracies.mean())\n",
    "print(\"Std: \", modelAccuracies.std())\n",
    "\n",
    "modeling_results.loc[len(modeling_results.index)] = ['LogisticRegression-PCA', \n",
    "                                                     '',\n",
    "                                                     modelAccuracies.mean(), \n",
    "                                                     modelAccuracies.std(),\n",
    "                                                     exec_time]  "
   ]
  },
  {
   "cell_type": "markdown",
   "metadata": {},
   "source": [
    "<b>LogisticRegression with LDA</b>"
   ]
  },
  {
   "cell_type": "code",
   "execution_count": 90,
   "metadata": {},
   "outputs": [
    {
     "name": "stdout",
     "output_type": "stream",
     "text": [
      "Wed Dec  9 22:37:37 2020\n",
      "Wed Dec  9 22:37:50 2020\n",
      "--- 13.25658369064331 seconds ---\n",
      "\n",
      "Mean:  0.9854961262312303\n",
      "Std:  0.0006074898665226723\n"
     ]
    }
   ],
   "source": [
    "# For performance evaluation purposes\n",
    "start_time = time.time()\n",
    "print(time.ctime(start_time))\n",
    "\n",
    "# Creating a pipeline\n",
    "pipe_lr = make_pipeline(StandardScaler(), LDA(n_components=1), LogisticRegression(random_state=0))\n",
    "\n",
    "# K-Fold Cross Validation\n",
    "modelAccuracies = cross_val_score(estimator=pipe_lr, X=X_train, y=y_train, cv=10)\n",
    "\n",
    "# For performance evaluation purposes\n",
    "end_time = time.time()\n",
    "print(time.ctime(end_time))\n",
    "exec_time = end_time - start_time\n",
    "print(\"--- %s seconds ---\" % exec_time)\n",
    "\n",
    "print(\"\\nMean: \", modelAccuracies.mean())\n",
    "print(\"Std: \", modelAccuracies.std())\n",
    "\n",
    "modeling_results.loc[len(modeling_results.index)] = ['LogisticRegression-LDA', \n",
    "                                                     '',\n",
    "                                                     modelAccuracies.mean(), \n",
    "                                                     modelAccuracies.std(),\n",
    "                                                     exec_time]  "
   ]
  },
  {
   "cell_type": "markdown",
   "metadata": {},
   "source": [
    "<b>LogisticRegression with KernelPCA</b>"
   ]
  },
  {
   "cell_type": "code",
   "execution_count": 91,
   "metadata": {},
   "outputs": [],
   "source": [
    "# # For performance evaluation purposes\n",
    "# start_time = time.time()\n",
    "# print(time.ctime(start_time))\n",
    "\n",
    "# # Creating a pipeline\n",
    "# pipe_lr = make_pipeline(StandardScaler(), KernelPCA(n_components=2, kernel='rbf'), LogisticRegression())\n",
    "\n",
    "# # K-Fold Cross Validation\n",
    "# modelAccuracies = cross_val_score(estimator=pipe_lr, X=X_train, y=y_train, cv=2)\n",
    "\n",
    "# For performance evaluation purposes\n",
    "# end_time = time.time()\n",
    "# print(time.ctime(end_time))\n",
    "# exec_time = end_time - start_time\n",
    "# print(\"--- %s seconds ---\" % exec_time)\n",
    "\n",
    "# print(\"\\nMean: \", modelAccuracies.mean())\n",
    "# print(\"Std: \", modelAccuracies.std())\n",
    "\n",
    "# modeling_results.loc[len(modeling_results.index)] = ['LogisticRegression-KPCA', \n",
    "#                                                      '',\n",
    "#                                                      modelAccuracies.mean(), \n",
    "#                                                      modelAccuracies.std(),\n",
    "#                                                      exec_time]  "
   ]
  },
  {
   "cell_type": "markdown",
   "metadata": {},
   "source": [
    "<h3>Perform KNeighborsClassifier (k-NN)</h3>"
   ]
  },
  {
   "cell_type": "code",
   "execution_count": 92,
   "metadata": {},
   "outputs": [
    {
     "name": "stdout",
     "output_type": "stream",
     "text": [
      "Wed Dec  9 22:37:50 2020\n",
      "Wed Dec  9 22:44:08 2020\n",
      "--- 377.8793148994446 seconds ---\n",
      "\n",
      "Mean:  0.9941674015997535\n",
      "Std:  0.00013752437315495136\n"
     ]
    }
   ],
   "source": [
    "# For performance evaluation purposes\n",
    "start_time = time.time()\n",
    "print(time.ctime(start_time))\n",
    "\n",
    "# Create a classifier object for k-NN\n",
    "classifierObj = KNeighborsClassifier(n_neighbors=5, p=2, metric='minkowski')\n",
    "\n",
    "# K-Fold Cross Validation\n",
    "modelAccuracies = cross_val_score(estimator=classifierObj, X=X_train, y=y_train, cv=2)\n",
    "\n",
    "# For performance evaluation purposes\n",
    "end_time = time.time()\n",
    "print(time.ctime(end_time))\n",
    "exec_time = end_time - start_time\n",
    "print(\"--- %s seconds ---\" % exec_time)\n",
    "\n",
    "print(\"\\nMean: \", modelAccuracies.mean())\n",
    "print(\"Std: \", modelAccuracies.std())\n",
    "\n",
    "modeling_results.loc[len(modeling_results.index)] = ['kNN', \n",
    "                                                     '',\n",
    "                                                     modelAccuracies.mean(), \n",
    "                                                     modelAccuracies.std(),\n",
    "                                                     exec_time]  "
   ]
  },
  {
   "cell_type": "markdown",
   "metadata": {},
   "source": [
    "<b>KNeighborsClassifier with PCA</b>"
   ]
  },
  {
   "cell_type": "code",
   "execution_count": 93,
   "metadata": {},
   "outputs": [
    {
     "name": "stdout",
     "output_type": "stream",
     "text": [
      "Wed Dec  9 22:44:08 2020\n",
      "Wed Dec  9 22:44:20 2020\n",
      "--- 11.500629901885986 seconds ---\n",
      "\n",
      "Mean:  0.8441121748563221\n",
      "Std:  0.0013934182031391518\n"
     ]
    }
   ],
   "source": [
    "# For performance evaluation purposes\n",
    "start_time = time.time()\n",
    "print(time.ctime(start_time))\n",
    "\n",
    "# Creating a pipeline\n",
    "pipe_lr = make_pipeline(PCA(n_components=2), KNeighborsClassifier(n_neighbors=5, p=2, metric='minkowski'))\n",
    "\n",
    "# K-Fold Cross Validation\n",
    "modelAccuracies = cross_val_score(estimator=pipe_lr, X=X_train, y=y_train, cv=2)\n",
    "\n",
    "# For performance evaluation purposes\n",
    "end_time = time.time()\n",
    "print(time.ctime(end_time))\n",
    "exec_time = end_time - start_time\n",
    "print(\"--- %s seconds ---\" % exec_time)\n",
    "\n",
    "print(\"\\nMean: \", modelAccuracies.mean())\n",
    "print(\"Std: \", modelAccuracies.std())\n",
    "\n",
    "modeling_results.loc[len(modeling_results.index)] = ['kNN-PCA', \n",
    "                                                     '',\n",
    "                                                     modelAccuracies.mean(), \n",
    "                                                     modelAccuracies.std(),\n",
    "                                                     exec_time] "
   ]
  },
  {
   "cell_type": "markdown",
   "metadata": {},
   "source": [
    "<b>KNeighborsClassifier with LDA</b>"
   ]
  },
  {
   "cell_type": "code",
   "execution_count": 94,
   "metadata": {},
   "outputs": [
    {
     "name": "stdout",
     "output_type": "stream",
     "text": [
      "Wed Dec  9 22:44:20 2020\n",
      "Wed Dec  9 22:44:31 2020\n",
      "--- 11.21029782295227 seconds ---\n",
      "\n",
      "Mean:  0.9858332184361993\n",
      "Std:  7.102980515827362e-05\n"
     ]
    }
   ],
   "source": [
    "# For performance evaluation purposes\n",
    "start_time = time.time()\n",
    "print(time.ctime(start_time))\n",
    "\n",
    "# Creating a pipeline\n",
    "pipe_lr = make_pipeline(LDA(n_components=1), KNeighborsClassifier(n_neighbors=5, p=2, metric='minkowski'))\n",
    "\n",
    "# K-Fold Cross Validation\n",
    "modelAccuracies = cross_val_score(estimator=pipe_lr, X=X_train, y=y_train, cv=2)\n",
    "\n",
    "# For performance evaluation purposes\n",
    "end_time = time.time()\n",
    "print(time.ctime(end_time))\n",
    "exec_time = end_time - start_time\n",
    "print(\"--- %s seconds ---\" % exec_time)\n",
    "\n",
    "print(\"\\nMean: \", modelAccuracies.mean())\n",
    "print(\"Std: \", modelAccuracies.std())\n",
    "\n",
    "modeling_results.loc[len(modeling_results.index)] = ['kNN-LDA', \n",
    "                                                     '',\n",
    "                                                     modelAccuracies.mean(), \n",
    "                                                     modelAccuracies.std(),\n",
    "                                                     exec_time] "
   ]
  },
  {
   "cell_type": "markdown",
   "metadata": {},
   "source": [
    "<b>KNeighborsClassifier with KernelPCA</b>"
   ]
  },
  {
   "cell_type": "code",
   "execution_count": 95,
   "metadata": {},
   "outputs": [],
   "source": [
    "# # For performance evaluation purposes\n",
    "# start_time = time.time()\n",
    "# print(time.ctime(start_time))\n",
    "\n",
    "# # Creating a pipeline\n",
    "# pipe_lr = make_pipeline(KernelPCA(n_components=2, kernel='rbf'), KNeighborsClassifier(n_neighbors=5, p=2, metric='minkowski'))\n",
    "\n",
    "# # K-Fold Cross Validation\n",
    "# modelAccuracies = cross_val_score(estimator=pipe_lr, X=X_train, y=y_train, cv=2)\n",
    "\n",
    "# # For performance evaluation purposes\n",
    "# end_time = time.time()\n",
    "# print(time.ctime(end_time))\n",
    "# exec_time = end_time - start_time\n",
    "# print(\"--- %s seconds ---\" % exec_time)\n",
    "\n",
    "# print(\"\\nMean: \", modelAccuracies.mean())\n",
    "# print(\"Std: \", modelAccuracies.std())\n",
    "\n",
    "# modeling_results.loc[len(modeling_results.index)] = ['kNN-KPCA', \n",
    "#                                                      modelAccuracies.mean(), \n",
    "#                                                      modelAccuracies.std(),\n",
    "#                                                      exec_time] "
   ]
  },
  {
   "cell_type": "markdown",
   "metadata": {},
   "source": [
    "<h3>Perform Kernel SVM</h3>"
   ]
  },
  {
   "cell_type": "code",
   "execution_count": 96,
   "metadata": {},
   "outputs": [
    {
     "name": "stdout",
     "output_type": "stream",
     "text": [
      "Wed Dec  9 22:44:31 2020\n",
      "Wed Dec  9 23:01:16 2020\n",
      "--- 1005.2240681648254 seconds ---\n",
      "\n",
      "Best Params:  {'kernel': 'linear'}\n",
      "Mean:  0.9955601289233601\n",
      "Std:  1.3325999507984854e-05\n"
     ]
    }
   ],
   "source": [
    "# For performance evaluation purposes\n",
    "start_time = time.time()\n",
    "print(time.ctime(start_time))\n",
    "\n",
    "classifierObj = SVC()\n",
    "\n",
    "grid_param = {'kernel': ['linear', 'poly', 'rbf', 'sigmoid']}\n",
    "\n",
    "gd_sr = GridSearchCV(estimator=classifierObj, param_grid=grid_param, scoring='accuracy', cv=2, n_jobs=-1)\n",
    "gd_sr.fit(X_train, y_train) \n",
    "\n",
    "# For performance evaluation purposes\n",
    "end_time = time.time()\n",
    "print(time.ctime(end_time))\n",
    "exec_time = end_time - start_time\n",
    "print(\"--- %s seconds ---\" % exec_time)\n",
    "\n",
    "print(\"\\nBest Params: \", gd_sr.best_params_)  \n",
    "print(\"Mean: \", gd_sr.best_score_)\n",
    "print(\"Std: \", gd_sr.cv_results_['std_test_score'][gd_sr.best_index_])\n",
    "\n",
    "modeling_results.loc[len(modeling_results.index)] = ['SVC', \n",
    "                                                     gd_sr.best_params_, \n",
    "                                                     gd_sr.best_score_,\n",
    "                                                     gd_sr.cv_results_['std_test_score'][gd_sr.best_index_],\n",
    "                                                     exec_time] "
   ]
  },
  {
   "cell_type": "markdown",
   "metadata": {},
   "source": [
    "<b>Kernel SVM with PCA</b>"
   ]
  },
  {
   "cell_type": "code",
   "execution_count": 97,
   "metadata": {},
   "outputs": [
    {
     "name": "stdout",
     "output_type": "stream",
     "text": [
      "Wed Dec  9 23:01:16 2020\n",
      "Wed Dec  9 23:48:59 2020\n",
      "--- 2862.8721764087677 seconds ---\n",
      "\n",
      "Best Params:  {'pca__n_components': 2, 'svc__kernel': 'rbf'}\n",
      "Mean:  0.8238954697427425\n",
      "Std:  0.0009217895007462285\n"
     ]
    }
   ],
   "source": [
    "# For performance evaluation purposes\n",
    "start_time = time.time()\n",
    "print(time.ctime(start_time))\n",
    "\n",
    "# Creating a pipeline\n",
    "pipe_lr = make_pipeline(PCA(), SVC())\n",
    "\n",
    "grid_param = {'pca__n_components': [2],\n",
    "              'svc__kernel': ['linear', 'poly', 'rbf', 'sigmoid']}\n",
    "\n",
    "gd_sr = GridSearchCV(estimator=pipe_lr, param_grid=grid_param, scoring='accuracy', cv=2, n_jobs=-1)\n",
    "gd_sr.fit(X_train, y_train) \n",
    "\n",
    "# For performance evaluation purposes\n",
    "end_time = time.time()\n",
    "print(time.ctime(end_time))\n",
    "exec_time = end_time - start_time\n",
    "print(\"--- %s seconds ---\" % exec_time)\n",
    "\n",
    "print(\"\\nBest Params: \", gd_sr.best_params_)  \n",
    "print(\"Mean: \", gd_sr.best_score_)\n",
    "print(\"Std: \", gd_sr.cv_results_['std_test_score'][gd_sr.best_index_])\n",
    "\n",
    "modeling_results.loc[len(modeling_results.index)] = ['SVC-PCA', \n",
    "                                                     gd_sr.best_params_, \n",
    "                                                     gd_sr.best_score_,\n",
    "                                                     gd_sr.cv_results_['std_test_score'][gd_sr.best_index_],\n",
    "                                                     exec_time] "
   ]
  },
  {
   "cell_type": "markdown",
   "metadata": {},
   "source": [
    "<b>Kernel SVM with LDA</b>"
   ]
  },
  {
   "cell_type": "code",
   "execution_count": null,
   "metadata": {},
   "outputs": [
    {
     "name": "stdout",
     "output_type": "stream",
     "text": [
      "Wed Dec  9 23:48:59 2020\n"
     ]
    }
   ],
   "source": [
    "# For performance evaluation purposes\n",
    "start_time = time.time()\n",
    "print(time.ctime(start_time))\n",
    "\n",
    "# Creating a pipeline\n",
    "pipe_lr = make_pipeline(LDA(), SVC())\n",
    "\n",
    "grid_param = {'lineardiscriminantanalysis__n_components': [1],\n",
    "              'svc__kernel': ['linear', 'poly', 'rbf', 'sigmoid']}\n",
    "\n",
    "gd_sr = GridSearchCV(estimator=pipe_lr, param_grid=grid_param, scoring='accuracy', cv=2, n_jobs=-1)\n",
    "gd_sr.fit(X_train, y_train) \n",
    "\n",
    "# For performance evaluation purposes\n",
    "end_time = time.time()\n",
    "print(time.ctime(end_time))\n",
    "exec_time = end_time - start_time\n",
    "print(\"--- %s seconds ---\" % exec_time)\n",
    "\n",
    "print(\"\\nBest Params: \", gd_sr.best_params_)  \n",
    "print(\"Mean: \", gd_sr.best_score_)\n",
    "print(\"Std: \", gd_sr.cv_results_['std_test_score'][gd_sr.best_index_])\n",
    "\n",
    "modeling_results.loc[len(modeling_results.index)] = ['SVC-LDA', \n",
    "                                                     gd_sr.best_params_, \n",
    "                                                     gd_sr.best_score_,\n",
    "                                                     gd_sr.cv_results_['std_test_score'][gd_sr.best_index_],\n",
    "                                                     exec_time] "
   ]
  },
  {
   "cell_type": "markdown",
   "metadata": {},
   "source": [
    "<b>Kernel SVM with KernelPCA</b>"
   ]
  },
  {
   "cell_type": "code",
   "execution_count": null,
   "metadata": {},
   "outputs": [],
   "source": [
    "# # For performance evaluation purposes\n",
    "# start_time = time.time()\n",
    "# print(time.ctime(start_time))\n",
    "\n",
    "# # Creating a pipeline\n",
    "# pipe_lr = make_pipeline(KernelPCA(n_components=2, kernel='rbf'), SVC(kernel='linear'))\n",
    "\n",
    "# # K-Fold Cross Validation\n",
    "# modelAccuracies = cross_val_score(estimator=pipe_lr, X=X_train, y=y_train, cv=2)\n",
    "\n",
    "# For performance evaluation purposes\n",
    "# end_time = time.time()\n",
    "# print(time.ctime(end_time))\n",
    "# exec_time = end_time - start_time\n",
    "# print(\"--- %s seconds ---\" % exec_time)\n",
    "\n",
    "# print(\"\\nMean: \", modelAccuracies.mean())\n",
    "# print(\"Std: \", modelAccuracies.std())\n",
    "\n",
    "# modeling_results.loc[len(modeling_results.index)] = ['SVC_linear-KPCA', \n",
    "#                                                      modelAccuracies.mean(), \n",
    "#                                                      modelAccuracies.std(),\n",
    "#                                                      exec_time] "
   ]
  },
  {
   "cell_type": "markdown",
   "metadata": {},
   "source": [
    "<h2>Summary</h2>\n",
    "\n",
    "Let's look at a summary of our modeling results"
   ]
  },
  {
   "cell_type": "code",
   "execution_count": null,
   "metadata": {},
   "outputs": [],
   "source": [
    "modeling_results"
   ]
  },
  {
   "cell_type": "code",
   "execution_count": null,
   "metadata": {},
   "outputs": [],
   "source": [
    "modeling_results[modeling_results['Mean'] == modeling_results['Mean'].max()]"
   ]
  },
  {
   "cell_type": "markdown",
   "metadata": {},
   "source": [
    "The model that provided the best performance was SVC with a linear kernel. The mean was 0.9957 with a standard deviation of 0.00005."
   ]
  },
  {
   "cell_type": "code",
   "execution_count": null,
   "metadata": {},
   "outputs": [],
   "source": [
    "# The optimal model\n",
    "pipe_lr = make_pipeline(StandardScaler(), SVC(kernel='linear'))\n",
    "pipe_lr.fit(X_train, y_train)\n",
    "y_pred = pipe_lr.predict(X_test)\n",
    "print('Test Accuracy: %.3f' % pipe_lr.score(X_test, y_test))\n",
    "\n",
    "#Evaluating the predictions using a Confusion Matrix\n",
    "from sklearn.metrics import confusion_matrix\n",
    "cm = confusion_matrix(y_test, y_pred)\n",
    "print(\"\\nConfusion Matrix:\\n\", cm)"
   ]
  },
  {
   "cell_type": "markdown",
   "metadata": {},
   "source": [
    "The test accuracy from our optimal model is 0.996. This is matches the results we got from the previous section."
   ]
  }
 ],
 "metadata": {
  "kernelspec": {
   "display_name": "Python 3",
   "language": "python",
   "name": "python3"
  },
  "language_info": {
   "codemirror_mode": {
    "name": "ipython",
    "version": 3
   },
   "file_extension": ".py",
   "mimetype": "text/x-python",
   "name": "python",
   "nbconvert_exporter": "python",
   "pygments_lexer": "ipython3",
   "version": "3.8.3"
  }
 },
 "nbformat": 4,
 "nbformat_minor": 4
}
